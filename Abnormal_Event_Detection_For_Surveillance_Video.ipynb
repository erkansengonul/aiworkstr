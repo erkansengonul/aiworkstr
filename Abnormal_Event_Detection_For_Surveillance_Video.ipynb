{
  "nbformat": 4,
  "nbformat_minor": 0,
  "metadata": {
    "colab": {
      "name": "Abnormal Event Detection For Surveillance Video.ipynb",
      "provenance": [],
      "authorship_tag": "ABX9TyPqAHLvPpqcJAvn74fpS+nQ",
      "include_colab_link": true
    },
    "kernelspec": {
      "name": "python3",
      "display_name": "Python 3"
    },
    "language_info": {
      "name": "python"
    },
    "accelerator": "GPU"
  },
  "cells": [
    {
      "cell_type": "markdown",
      "metadata": {
        "id": "view-in-github",
        "colab_type": "text"
      },
      "source": [
        "<a href=\"https://colab.research.google.com/github/erkansengonul/aiworkstr/blob/main/Abnormal_Event_Detection_For_Surveillance_Video.ipynb\" target=\"_parent\"><img src=\"https://colab.research.google.com/assets/colab-badge.svg\" alt=\"Open In Colab\"/></a>"
      ]
    },
    {
      "cell_type": "code",
      "metadata": {
        "colab": {
          "base_uri": "https://localhost:8080/"
        },
        "id": "fJcC-HFVQoSZ",
        "outputId": "8355ed66-b437-477e-dbfd-6f0ecdf874e0"
      },
      "source": [
        "from google.colab import drive\n",
        "drive.mount('/content/drive')"
      ],
      "execution_count": 1,
      "outputs": [
        {
          "output_type": "stream",
          "text": [
            "Mounted at /content/drive\n"
          ],
          "name": "stdout"
        }
      ]
    },
    {
      "cell_type": "code",
      "metadata": {
        "id": "KeJ5BEL3R4LK"
      },
      "source": [
        "import numpy as np # linear algebra\n",
        "import pandas as pd # data processing, CSV file I/O (e.g. pd.read_csv)\n",
        "import os\n"
      ],
      "execution_count": 2,
      "outputs": []
    },
    {
      "cell_type": "code",
      "metadata": {
        "colab": {
          "base_uri": "https://localhost:8080/"
        },
        "id": "vqoUr9uJSKW1",
        "outputId": "6b09f4e3-7250-4a0f-feb7-7ebcc1c2610e"
      },
      "source": [
        "for dirname, _, filenames in os.walk('/content/drive/MyDrive/Datasets/UCF_Crimes/'):\n",
        "    for filename in filenames:\n",
        "        print(os.path.join(dirname, filename))"
      ],
      "execution_count": 3,
      "outputs": [
        {
          "output_type": "stream",
          "text": [
            "/content/drive/MyDrive/Datasets/UCF_Crimes/Explosion/Explosion008_x264.mp4\n",
            "/content/drive/MyDrive/Datasets/UCF_Crimes/Explosion/Explosion022_x264.mp4\n",
            "/content/drive/MyDrive/Datasets/UCF_Crimes/Explosion/Explosion023_x264.mp4\n"
          ],
          "name": "stdout"
        }
      ]
    },
    {
      "cell_type": "code",
      "metadata": {
        "colab": {
          "base_uri": "https://localhost:8080/"
        },
        "id": "H4yYD-bkWLAx",
        "outputId": "5e178b27-e526-4677-fea4-edb61c84b5fc"
      },
      "source": [
        "pip install numpngw"
      ],
      "execution_count": 4,
      "outputs": [
        {
          "output_type": "stream",
          "text": [
            "Collecting numpngw\n",
            "  Downloading https://files.pythonhosted.org/packages/48/99/a2482bbf4d3a663042f496e9a23fb68b068e8768baf0183293f3e5f9aaad/numpngw-0.0.8-py3-none-any.whl\n",
            "Requirement already satisfied: numpy>=1.6.0 in /usr/local/lib/python3.7/dist-packages (from numpngw) (1.19.5)\n",
            "Installing collected packages: numpngw\n",
            "Successfully installed numpngw-0.0.8\n"
          ],
          "name": "stdout"
        }
      ]
    },
    {
      "cell_type": "code",
      "metadata": {
        "id": "y8VsouNLR_i8"
      },
      "source": [
        "class Config:\n",
        "  BATCH_SIZE = 4\n",
        "  EPOCHS = 3\n",
        "  VIDEO_NAME = 'Explosion022_x264'\n",
        "  VIDEO_DIR = '/content/drive/MyDrive/Datasets/UCF_Crimes/Explosion/'+ VIDEO_NAME +'.mp4'\n",
        "  #VIDEO_DIR = '/content/drive/MyDrive/Datasets/UCF_Crimes/RoadAccidents/'+ VIDEO_NAME +'.mp4'\n",
        "  #VIDEO_DIR = '/content/drive/MyDrive/Datasets/UCF_Crimes/Assault/'+ VIDEO_NAME +'.mp4'\n",
        "  ORIGINAL_TRAIN_DIR = '/content/drive/MyDrive/video_anomaly_detection/'+ VIDEO_NAME + '/1-Original/Train/'\n",
        "  ORIGINAL_TEST_DIR = '/content/drive/MyDrive/video_anomaly_detection/'+ VIDEO_NAME + '/1-Original/Test/'\n",
        "  EIGHTBIT_DEPTH_TRAIN_DIR = '/content/drive/MyDrive/video_anomaly_detection/'+ VIDEO_NAME + '/2-8bit_depth/Train/'\n",
        "  EIGHTBIT_DEPTH_TEST_DIR = '/content/drive/MyDrive/video_anomaly_detection/'+ VIDEO_NAME + '/2-8bit_depth/Test/'\n",
        "  BACKGROUND_REMOVED_TRAIN_DIR = '/content/drive/MyDrive/video_anomaly_detection/'+ VIDEO_NAME + '/3-Background_removed/Train/'\n",
        "  BACKGROUND_REMOVED_TEST_DIR= '/content/drive/MyDrive/video_anomaly_detection/'+ VIDEO_NAME + '/3-Background_removed/Test/'\n",
        "  RESIZED_BACK_REMOVED_TRAIN_DIR = '/content/drive/MyDrive/video_anomaly_detection/'+ VIDEO_NAME + '/4-Resized_back_removed/Train/'\n",
        "  RESIZED_BACK_REMOVED_TEST_DIR = '/content/drive/MyDrive/video_anomaly_detection/'+ VIDEO_NAME + '/4-Resized_back_removed/Test/'\n",
        "  TEST_RESULTS = '/content/drive/MyDrive/video_anomaly_detection/'+ VIDEO_NAME + '/5-Test_results/'  \n",
        "  MODEL_PATH = '/content/drive/MyDrive/video_anomaly_detection/'+ VIDEO_NAME + '/model.hdf5'\n",
        "  DATA_PROCESS_METHOD = ''\n",
        "  TEST_FRAME_COUNT = 0\n",
        "  TRAIN_FRAME_COUNT = 0"
      ],
      "execution_count": 5,
      "outputs": []
    },
    {
      "cell_type": "code",
      "metadata": {
        "id": "64jt-_zdSW7v"
      },
      "source": [
        "def delete_folder_files(directory):\n",
        "    #Tüm Output dosyalarını siler\n",
        "    import os\n",
        "    for dirname, _, filenames in os.walk(directory):\n",
        "        for filename in filenames:\n",
        "            os.remove(os.path.join(dirname, filename))"
      ],
      "execution_count": 6,
      "outputs": []
    },
    {
      "cell_type": "code",
      "metadata": {
        "id": "FRrtXY7sVHxy"
      },
      "source": [
        "def release_list(mylist):\n",
        "   del mylist[:]\n",
        "   del mylist\n",
        "    "
      ],
      "execution_count": 7,
      "outputs": []
    },
    {
      "cell_type": "code",
      "metadata": {
        "id": "jeeRr1j0XHjT"
      },
      "source": [
        "import cv2\n",
        "import numpy as np\n",
        "\n",
        "cap = cv2.VideoCapture(Config.VIDEO_DIR)\n",
        "\n",
        "if not os.path.exists(Config.ORIGINAL_TRAIN_DIR): os.makedirs(Config.ORIGINAL_TRAIN_DIR)\n",
        "if not os.path.exists(Config.ORIGINAL_TEST_DIR): os.makedirs(Config.ORIGINAL_TEST_DIR)\n",
        "if not os.path.exists(Config.EIGHTBIT_DEPTH_TRAIN_DIR): os.makedirs(Config.EIGHTBIT_DEPTH_TRAIN_DIR)\n",
        "if not os.path.exists(Config.EIGHTBIT_DEPTH_TEST_DIR): os.makedirs(Config.EIGHTBIT_DEPTH_TEST_DIR)\n",
        "if not os.path.exists(Config.BACKGROUND_REMOVED_TRAIN_DIR): os.makedirs(Config.BACKGROUND_REMOVED_TRAIN_DIR)\n",
        "if not os.path.exists(Config.BACKGROUND_REMOVED_TEST_DIR): os.makedirs(Config.BACKGROUND_REMOVED_TEST_DIR)\n",
        "if not os.path.exists(Config.RESIZED_BACK_REMOVED_TRAIN_DIR): os.makedirs(Config.RESIZED_BACK_REMOVED_TRAIN_DIR)\n",
        "if not os.path.exists(Config.RESIZED_BACK_REMOVED_TEST_DIR): os.makedirs(Config.RESIZED_BACK_REMOVED_TEST_DIR)  \n",
        "if not os.path.exists(Config.TEST_RESULTS): os.makedirs(Config.TEST_RESULTS)"
      ],
      "execution_count": 8,
      "outputs": []
    },
    {
      "cell_type": "code",
      "metadata": {
        "id": "5pjcuGk-XOFA"
      },
      "source": [
        "from os import listdir\n",
        "from os.path import isfile, join, isdir\n",
        "import numpy as np\n",
        "from PIL import Image\n",
        "\n",
        "def get_clips_by_stride(stride, frames_list, sequence_size):\n",
        "    \"\"\" For data augmenting purposes.\n",
        "    Parameters\n",
        "    ----------\n",
        "    stride : int\n",
        "        The distance between two consecutive frames\n",
        "    frames_list : list\n",
        "        A list of sorted frames of shape 256 X 256\n",
        "    sequence_size: int\n",
        "        The size of the lstm sequence\n",
        "    Returns\n",
        "    -------\n",
        "    list\n",
        "        A list of clips , 10 frames each\n",
        "    \"\"\"\n",
        "    clips = []\n",
        "    sz = len(frames_list)\n",
        "    clip = np.zeros(shape=(sequence_size, 256, 256, 1))\n",
        "    cnt = 0\n",
        "    for start in range(0, stride):\n",
        "        for i in range(start, sz, stride):\n",
        "            clip[cnt, :, :, 0] = frames_list[i]\n",
        "            cnt = cnt + 1\n",
        "            if cnt == sequence_size:\n",
        "                clips.append(clip)\n",
        "                cnt = 0\n",
        "    return clips"
      ],
      "execution_count": 9,
      "outputs": []
    },
    {
      "cell_type": "code",
      "metadata": {
        "id": "5L_etXVNXSxk"
      },
      "source": [
        "import cv2\n",
        "import numpy as np\n",
        "from numpngw import write_png\n",
        "from PIL import Image\n",
        "\n",
        "def save_image_8bitdepth(path, file_name, image):\n",
        "    img = Image.fromarray(image, 'RGB')\n",
        "    img= img.quantize()\n",
        "    img.save(path + file_name)"
      ],
      "execution_count": 10,
      "outputs": []
    },
    {
      "cell_type": "code",
      "metadata": {
        "id": "g8sStMYBXUGL"
      },
      "source": [
        "def adaptive_threshold(image):\n",
        "    image = cv2.cvtColor(image, cv2.COLOR_BGR2GRAY) \n",
        "    return cv2.adaptiveThreshold(image, 255, cv2.ADAPTIVE_THRESH_GAUSSIAN_C, cv2.THRESH_BINARY, 199, 5) "
      ],
      "execution_count": 11,
      "outputs": []
    },
    {
      "cell_type": "code",
      "metadata": {
        "id": "2pM48DlcXWZH"
      },
      "source": [
        "def preprocess_data(data_process_method, frame_catching_interval, train_set_percentage):\n",
        "    Config.DATA_PROCESS_METHOD = data_process_method\n",
        "    #from PIL import Image\n",
        "    #delete_folder_files('/kaggle/working/')\n",
        "    #Toplam frame sayısı\n",
        "    total_frame = int(cap.get(cv2.CAP_PROP_FRAME_COUNT))\n",
        "    train_finish_frame_no = int(total_frame * train_set_percentage / 100)\n",
        "\n",
        "    if data_process_method == 'ABSDIFF':\n",
        "        #cap.set(cv2.CAP_PROP_POS_FRAMES, 40)\n",
        "        rval, frame1 = cap.read()\n",
        "    elif data_process_method == 'MOG2':\n",
        "        fgbg = cv2.createBackgroundSubtractorMOG2(history = 100, varThreshold = 16, detectShadows = False)\n",
        "    elif data_process_method == 'BLOB':\n",
        "        detector = cv2.SimpleBlobDetector()  \n",
        "\n",
        "    original_frames = []\n",
        "    background_removed_frames = []\n",
        "\n",
        "    train_frame_count=0\n",
        "    test_frame_count=0\n",
        "    for i in range(0,total_frame,frame_catching_interval):\n",
        "        cap.set(cv2.CAP_PROP_POS_FRAMES, i)\n",
        "        ret, frame = cap.read()\n",
        "        original_frames.append(frame)\n",
        "        \n",
        "        if data_process_method == 'NONE':\n",
        "            background_removed_frames.append(frame)\n",
        "        elif data_process_method == 'ABSDIFF':\n",
        "            background_removed_frames.append(cv2.erode(cv2.absdiff(frame,frame1), None, 3))\n",
        "        elif data_process_method == 'MOG2':\n",
        "            background_removed_frames.append(cv2.erode(fgbg.apply(frame), None, 3))\n",
        "        elif data_process_method == 'BLOB':\n",
        "            frame = cv2.cvtColor(frame, cv2.COLOR_BGR2GRAY)\n",
        "            keypoints = detector.detect(frame)\n",
        "            im_with_keypoints = cv2.drawKeypoints(frame, keypoints, np.array([]), (0, 0, 255),  \n",
        "                                      cv2.DRAW_MATCHES_FLAGS_DRAW_RICH_KEYPOINTS)  \n",
        "            background_removed_frames.append(im_with_keypoints)\n",
        "\n",
        "        if i <= train_finish_frame_no:\n",
        "            cv2.imwrite(Config.ORIGINAL_TRAIN_DIR + str(f'{train_frame_count:04}')+'.png', original_frames[-1])\n",
        "            save_image_8bitdepth(Config.EIGHTBIT_DEPTH_TRAIN_DIR, str(f'{train_frame_count:04}')+'.png', original_frames[-1])\n",
        "\n",
        "            if data_process_method == 'NONE':\n",
        "                save_image_8bitdepth(Config.BACKGROUND_REMOVED_TRAIN_DIR, str(f'{train_frame_count:04}')+'.png', background_removed_frames[-1])\n",
        "            elif data_process_method == 'ABSDIFF':\n",
        "                save_image_8bitdepth(Config.BACKGROUND_REMOVED_TRAIN_DIR, str(f'{train_frame_count:04}')+'.png', background_removed_frames[-1])\n",
        "            elif data_process_method == 'MOG2':\n",
        "                cv2.imwrite(Config.BACKGROUND_REMOVED_TRAIN_DIR + str(f'{train_frame_count:04}')+'.png', background_removed_frames[-1])\n",
        "            elif data_process_method == 'BLOB':\n",
        "                save_image_8bitdepth(Config.BACKGROUND_REMOVED_TRAIN_DIR, str(f'{train_frame_count:04}')+'.png', background_removed_frames[-1])\n",
        "\n",
        "            train_frame_count=train_frame_count+1\n",
        "        else:\n",
        "            cv2.imwrite(Config.ORIGINAL_TEST_DIR + str(f'{test_frame_count:04}')+'.png', original_frames[-1])\n",
        "            save_image_8bitdepth(Config.EIGHTBIT_DEPTH_TEST_DIR, str(f'{test_frame_count:04}')+'.png', original_frames[-1])\n",
        "            \n",
        "            if data_process_method == 'NONE':\n",
        "                save_image_8bitdepth(Config.BACKGROUND_REMOVED_TEST_DIR, str(f'{test_frame_count:04}')+'.png', background_removed_frames[-1])\n",
        "            elif data_process_method == 'ABSDIFF':\n",
        "                save_image_8bitdepth(Config.BACKGROUND_REMOVED_TEST_DIR, str(f'{test_frame_count:04}')+'.png', background_removed_frames[-1])\n",
        "            elif data_process_method == 'MOG2':\n",
        "                cv2.imwrite(Config.BACKGROUND_REMOVED_TEST_DIR + str(f'{test_frame_count:04}')+'.png', background_removed_frames[-1])\n",
        "            elif data_process_method == 'BLOB':\n",
        "                save_image_8bitdepth(Config.BACKGROUND_REMOVED_TEST_DIR, str(f'{test_frame_count:04}')+'.png', background_removed_frames[-1])\n",
        "\n",
        "            test_frame_count=test_frame_count+1\n",
        "\n",
        "    Config.TRAIN_FRAME_COUNT = train_frame_count\n",
        "    print('Eğitim Sayısı:' + str(train_frame_count))\n",
        "    Config.TEST_FRAME_COUNT = test_frame_count\n",
        "    print('Test Sayısı:' + str(test_frame_count))\n",
        "    #print(len(original_frames))\n",
        "    #print(len(background_removed_frames))\n",
        "    #release_list(original_frames)\n",
        "    #release_list(background_removed_frames)\n"
      ],
      "execution_count": 12,
      "outputs": []
    },
    {
      "cell_type": "code",
      "metadata": {
        "id": "r2o7F5M-Xhot"
      },
      "source": [
        "def get_training_set():\n",
        "    clips = []\n",
        "    all_frames = []\n",
        "    # loop over the training folders (Train000,Train001,..)\n",
        "    for f in sorted(listdir(Config.BACKGROUND_REMOVED_TRAIN_DIR)):\n",
        "        img_path = join(Config.BACKGROUND_REMOVED_TRAIN_DIR, f)\n",
        "        img = Image.open(img_path).resize((256, 256))\n",
        "        img = np.array(img, dtype=np.float32) / 256.0\n",
        "        #img = cv2.cvtColor(img, cv2.COLOR_BGR2GRAY)\n",
        "        all_frames.append(img)\n",
        "        cv2.imwrite(Config.RESIZED_BACK_REMOVED_TRAIN_DIR + str(f'{f:4}'), img)\n",
        "\n",
        "        # get the 10-frames sequences from the list of images after applying data augmentation\n",
        "    for stride in range(1, 3):\n",
        "        clips.extend(get_clips_by_stride(stride=stride, frames_list=all_frames, sequence_size=10))\n",
        "    return clips"
      ],
      "execution_count": 13,
      "outputs": []
    },
    {
      "cell_type": "code",
      "metadata": {
        "colab": {
          "base_uri": "https://localhost:8080/"
        },
        "id": "Zpov70j3Xga1",
        "outputId": "3842aa8d-cb8e-4850-8d71-07005985169b"
      },
      "source": [
        "!pip install keras-layer-normalization"
      ],
      "execution_count": 14,
      "outputs": [
        {
          "output_type": "stream",
          "text": [
            "Collecting keras-layer-normalization\n",
            "  Downloading https://files.pythonhosted.org/packages/33/e1/0da586d544a0940a56a2f4aa704b7dbd95eaa8ceda6168b48f5ac95e6608/keras-layer-normalization-0.15.0.tar.gz\n",
            "Requirement already satisfied: numpy in /usr/local/lib/python3.7/dist-packages (from keras-layer-normalization) (1.19.5)\n",
            "Requirement already satisfied: Keras in /usr/local/lib/python3.7/dist-packages (from keras-layer-normalization) (2.4.3)\n",
            "Requirement already satisfied: pyyaml in /usr/local/lib/python3.7/dist-packages (from Keras->keras-layer-normalization) (3.13)\n",
            "Requirement already satisfied: h5py in /usr/local/lib/python3.7/dist-packages (from Keras->keras-layer-normalization) (3.1.0)\n",
            "Requirement already satisfied: scipy>=0.14 in /usr/local/lib/python3.7/dist-packages (from Keras->keras-layer-normalization) (1.4.1)\n",
            "Requirement already satisfied: cached-property; python_version < \"3.8\" in /usr/local/lib/python3.7/dist-packages (from h5py->Keras->keras-layer-normalization) (1.5.2)\n",
            "Building wheels for collected packages: keras-layer-normalization\n",
            "  Building wheel for keras-layer-normalization (setup.py) ... \u001b[?25l\u001b[?25hdone\n",
            "  Created wheel for keras-layer-normalization: filename=keras_layer_normalization-0.15.0-cp37-none-any.whl size=5224 sha256=2285b0c370a77c5e3aa72c7516b628f915b34f5df6e6f9f3541b2e56bf867bb2\n",
            "  Stored in directory: /root/.cache/pip/wheels/de/ea/db/833c8a9b8326e703e9f8a78c0d4153294e6a1b1f97a1836397\n",
            "Successfully built keras-layer-normalization\n",
            "Installing collected packages: keras-layer-normalization\n",
            "Successfully installed keras-layer-normalization-0.15.0\n"
          ],
          "name": "stdout"
        }
      ]
    },
    {
      "cell_type": "code",
      "metadata": {
        "id": "oGlCm2gXXmnc"
      },
      "source": [
        "import keras\n",
        "from keras.layers import Conv2DTranspose, ConvLSTM2D, BatchNormalization, TimeDistributed, Conv2D\n",
        "from keras.models import Sequential, load_model\n",
        "from keras_layer_normalization import LayerNormalization\n",
        "from keras.utils.vis_utils import plot_model\n",
        "\n",
        "def get_model(reload_model=True):\n",
        "    \"\"\"\n",
        "    Parameters\n",
        "    ----------\n",
        "    reload_model : bool\n",
        "        Load saved model or retrain it\n",
        "    \"\"\"\n",
        "    if not reload_model:\n",
        "        return load_model(Config.MODEL_PATH,custom_objects={'LayerNormalization': LayerNormalization})\n",
        "    training_set = get_training_set()\n",
        "    training_set = np.array(training_set)\n",
        "    model = Sequential()\n",
        "    model.add(TimeDistributed(Conv2D(128, (11, 11), strides=4, padding=\"same\"), batch_input_shape=(None, 10, 256, 256, 1)))\n",
        "    model.add(LayerNormalization())\n",
        "    model.add(TimeDistributed(Conv2D(64, (5, 5), strides=2, padding=\"same\")))\n",
        "    model.add(LayerNormalization())\n",
        "    # # # # #\n",
        "    model.add(ConvLSTM2D(64, (3, 3), padding=\"same\", return_sequences=True))\n",
        "    model.add(LayerNormalization())\n",
        "    model.add(ConvLSTM2D(32, (3, 3), padding=\"same\", return_sequences=True))\n",
        "    model.add(LayerNormalization())\n",
        "    model.add(ConvLSTM2D(64, (3, 3), padding=\"same\", return_sequences=True))\n",
        "    model.add(LayerNormalization())\n",
        "    # # # # #\n",
        "    model.add(TimeDistributed(Conv2DTranspose(64, (5, 5), strides=2, padding=\"same\")))\n",
        "    model.add(LayerNormalization())\n",
        "    model.add(TimeDistributed(Conv2DTranspose(128, (11, 11), strides=4, padding=\"same\")))\n",
        "    model.add(LayerNormalization())\n",
        "    model.add(TimeDistributed(Conv2D(1, (11, 11), activation=\"sigmoid\", padding=\"same\")))\n",
        "    print(model.summary())\n",
        "    \n",
        "    myOptimizer = keras.optimizers.Adam(lr=1e-4, decay=1e-5, epsilon=1e-6)\n",
        "    model.compile(loss='mse', optimizer= myOptimizer)\n",
        "    model.fit(training_set, training_set,batch_size=Config.BATCH_SIZE, epochs=Config.EPOCHS, shuffle=False)\n",
        "    model.save(Config.MODEL_PATH)\n",
        "    plot_model(model, to_file=Config.TEST_RESULTS + 'model_plot.png', show_shapes=True, show_layer_names=True)\n",
        "    \n",
        "    return model\n"
      ],
      "execution_count": 15,
      "outputs": []
    },
    {
      "cell_type": "code",
      "metadata": {
        "id": "zi8f_X0MXpm4"
      },
      "source": [
        "def get_test_set():\n",
        "    sz = Config.TEST_FRAME_COUNT\n",
        "\n",
        "    #print('Test sayısı: ' + str(sz))\n",
        "    test = np.zeros(shape=(sz, 256, 256, 1))\n",
        "\n",
        "    cnt = 0\n",
        "    for f in sorted(listdir(Config.BACKGROUND_REMOVED_TEST_DIR)):\n",
        "        img = Image.open(join(Config.BACKGROUND_REMOVED_TEST_DIR, f)).resize((256, 256))\n",
        "        img = np.array(img, dtype=np.float32) / 256.0\n",
        "        cv2.imwrite(Config.RESIZED_BACK_REMOVED_TEST_DIR + str(f'{f:4}'), img)\n",
        "        #img = cv2.cvtColor(img, cv2.COLOR_BGR2GRAY)\n",
        "        test[cnt, :, :, 0] = img\n",
        "        cnt = cnt + 1\n",
        "    return test"
      ],
      "execution_count": 16,
      "outputs": []
    },
    {
      "cell_type": "code",
      "metadata": {
        "id": "vTx82vgmXruB"
      },
      "source": [
        "import matplotlib.pyplot as plt\n",
        "from matplotlib import pyplot as plt\n",
        "\n",
        "sr=[]\n",
        "def evaluate(reload_model=True):\n",
        "    model = get_model(reload_model)\n",
        "    print(\"got model\")\n",
        "    test = get_test_set()\n",
        "    print(\"got test\")\n",
        "    sz = test.shape[0] - 10\n",
        "    sequences = np.zeros((sz, 10, 256, 256, 1))\n",
        "    # apply the sliding window technique to get the sequences\n",
        "    for i in range(0, sz):\n",
        "        clip = np.zeros((10, 256, 256, 1))\n",
        "        for j in range(0, 10):\n",
        "            clip[j] = test[i + j, :, :, :]\n",
        "        sequences[i] = clip\n",
        "\n",
        "    # get the reconstruction cost of all the sequences\n",
        "    reconstructed_sequences = model.predict(sequences,batch_size=4)\n",
        "    sequences_reconstruction_cost = np.array([np.linalg.norm(np.subtract(sequences[i],reconstructed_sequences[i])) for i in range(0,sz)])\n",
        "    sa = (sequences_reconstruction_cost - np.min(sequences_reconstruction_cost)) / np.max(sequences_reconstruction_cost)\n",
        "    \n",
        "    sr = 1.0 - sa\n",
        "    # plot the regularity scores\n",
        "   \n",
        "    fig = plt.figure()\n",
        "    ax = fig.add_subplot(1, 1, 1)\n",
        "\n",
        "    #major_interval = Config.TEST_FRAME_COUNT/6-Config.TEST_FRAME_COUNT%10\n",
        "    major_interval = round((Config.TEST_FRAME_COUNT/6)-(Config.TEST_FRAME_COUNT/6)%10)\n",
        "    minor_interval = round(major_interval/5)\n",
        "    # Major ticks every 20, minor ticks every 5\n",
        "    major_ticks = np.arange(0, sr.shape[0]+1, major_interval)\n",
        "    minor_ticks = np.arange(0, sr.shape[0]+1, 10)\n",
        "    \n",
        "    ax.set_xticks(major_ticks)\n",
        "    ax.set_xticks(minor_ticks, minor=True)\n",
        "\n",
        "    #ax.grid(which='both')\n",
        "    ax.grid(which='minor', alpha=0.4)\n",
        "    ax.grid(which='major', alpha=0.8)\n",
        "    plt.plot(sr)\n",
        "    plt.ylabel('Düzenlilik Puanı Dp(f)')\n",
        "    plt.xlabel('Çerçeve f')\n",
        "    plt.xlim([0, sr.shape[0]])\n",
        "    \n",
        "    plt.savefig(Config.TEST_RESULTS + 'Result'+ Config.DATA_PROCESS_METHOD +'.png')\n",
        "    #plt.show()"
      ],
      "execution_count": 17,
      "outputs": []
    },
    {
      "cell_type": "code",
      "metadata": {
        "id": "4OpUur2fXwO1",
        "colab": {
          "base_uri": "https://localhost:8080/",
          "height": 231
        },
        "outputId": "9cd0b907-16d2-408a-c5ee-997770ddae80"
      },
      "source": [
        "#Config.VIDEO_DIR = '/kaggle/input/ucfcrimepart3/Anomaly-Videos-Part-3/RoadAccidents/'+ Config.VIDEO_NAME +'.mp4'\n",
        "\n",
        "#data_process_method = ['NONE', 'ABSDIFF', 'MOG2']\n",
        "preprocess_data(data_process_method = 'ABSDIFF', frame_catching_interval = 3, train_set_percentage = 50)\n",
        "\n",
        "evaluate(reload_model=Ture);"
      ],
      "execution_count": 1,
      "outputs": [
        {
          "output_type": "error",
          "ename": "NameError",
          "evalue": "ignored",
          "traceback": [
            "\u001b[0;31m---------------------------------------------------------------------------\u001b[0m",
            "\u001b[0;31mNameError\u001b[0m                                 Traceback (most recent call last)",
            "\u001b[0;32m<ipython-input-1-d560f306301c>\u001b[0m in \u001b[0;36m<module>\u001b[0;34m()\u001b[0m\n\u001b[1;32m      2\u001b[0m \u001b[0;34m\u001b[0m\u001b[0m\n\u001b[1;32m      3\u001b[0m \u001b[0;31m#data_process_method = ['NONE', 'ABSDIFF', 'MOG2']\u001b[0m\u001b[0;34m\u001b[0m\u001b[0;34m\u001b[0m\u001b[0;34m\u001b[0m\u001b[0m\n\u001b[0;32m----> 4\u001b[0;31m \u001b[0mpreprocess_data\u001b[0m\u001b[0;34m(\u001b[0m\u001b[0mdata_process_method\u001b[0m \u001b[0;34m=\u001b[0m \u001b[0;34m'ABSDIFF'\u001b[0m\u001b[0;34m,\u001b[0m \u001b[0mframe_catching_interval\u001b[0m \u001b[0;34m=\u001b[0m \u001b[0;36m3\u001b[0m\u001b[0;34m,\u001b[0m \u001b[0mtrain_set_percentage\u001b[0m \u001b[0;34m=\u001b[0m \u001b[0;36m50\u001b[0m\u001b[0;34m)\u001b[0m\u001b[0;34m\u001b[0m\u001b[0;34m\u001b[0m\u001b[0m\n\u001b[0m\u001b[1;32m      5\u001b[0m \u001b[0;34m\u001b[0m\u001b[0m\n\u001b[1;32m      6\u001b[0m \u001b[0mevaluate\u001b[0m\u001b[0;34m(\u001b[0m\u001b[0mreload_model\u001b[0m\u001b[0;34m=\u001b[0m\u001b[0mTure\u001b[0m\u001b[0;34m)\u001b[0m\u001b[0;34m;\u001b[0m\u001b[0;34m\u001b[0m\u001b[0;34m\u001b[0m\u001b[0m\n",
            "\u001b[0;31mNameError\u001b[0m: name 'preprocess_data' is not defined"
          ]
        }
      ]
    }
  ]
}