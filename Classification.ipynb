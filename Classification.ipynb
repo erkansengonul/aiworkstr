{
  "nbformat": 4,
  "nbformat_minor": 0,
  "metadata": {
    "colab": {
      "name": "Classification.ipynb",
      "provenance": [],
      "authorship_tag": "ABX9TyP09Wug/CVqCMVG1hYR6QYQ",
      "include_colab_link": true
    },
    "kernelspec": {
      "name": "python3",
      "display_name": "Python 3"
    },
    "language_info": {
      "name": "python"
    }
  },
  "cells": [
    {
      "cell_type": "markdown",
      "metadata": {
        "id": "view-in-github",
        "colab_type": "text"
      },
      "source": [
        "<a href=\"https://colab.research.google.com/github/erkansengonul/aiworkstr/blob/main/Classification.ipynb\" target=\"_parent\"><img src=\"https://colab.research.google.com/assets/colab-badge.svg\" alt=\"Open In Colab\"/></a>"
      ]
    },
    {
      "cell_type": "code",
      "metadata": {
        "id": "7s9GKMuYyaou"
      },
      "source": [
        "import pandas as pd\n",
        "from matplotlib import pyplot as plt\n",
        "import seaborn as sns\n",
        "\n",
        "from sklearn.tree import DecisionTreeClassifier\n",
        "from sklearn.neighbors import KNeighborsClassifier\n",
        "from sklearn.neural_network import MLPClassifier\n",
        "from sklearn.ensemble import RandomForestClassifier\n",
        "from sklearn import tree"
      ],
      "execution_count": 22,
      "outputs": []
    },
    {
      "cell_type": "code",
      "metadata": {
        "colab": {
          "base_uri": "https://localhost:8080/",
          "height": 295
        },
        "id": "Tgbd_8Lb4tvO",
        "outputId": "237dbcf5-aa7a-4429-d350-ce8230d32753"
      },
      "source": [
        "feature_names = ['Height','Weight','Shoe Size','Gender']\n",
        "target_names  = ['male','female']\n",
        "\n",
        "Physical_Char_Gender = {feature_names[0]:     [190, 166,  190,  175,  171,  177,  160,  144],\n",
        "                        feature_names[1]:     [70,  65,   90,   64,   75,   80,   60,   54],\n",
        "                        feature_names[2]:     [44,  45,   47,   39,   40,   42,   38,   37],\n",
        "                        feature_names[3]:     ['male','male','male','male','female','female','female','female']        \n",
        "                        }\n",
        "\n",
        "df = pd.DataFrame(Physical_Char_Gender,columns=feature_names) \n",
        "df"
      ],
      "execution_count": 23,
      "outputs": [
        {
          "output_type": "execute_result",
          "data": {
            "text/html": [
              "<div>\n",
              "<style scoped>\n",
              "    .dataframe tbody tr th:only-of-type {\n",
              "        vertical-align: middle;\n",
              "    }\n",
              "\n",
              "    .dataframe tbody tr th {\n",
              "        vertical-align: top;\n",
              "    }\n",
              "\n",
              "    .dataframe thead th {\n",
              "        text-align: right;\n",
              "    }\n",
              "</style>\n",
              "<table border=\"1\" class=\"dataframe\">\n",
              "  <thead>\n",
              "    <tr style=\"text-align: right;\">\n",
              "      <th></th>\n",
              "      <th>Height</th>\n",
              "      <th>Weight</th>\n",
              "      <th>Shoe Size</th>\n",
              "      <th>Gender</th>\n",
              "    </tr>\n",
              "  </thead>\n",
              "  <tbody>\n",
              "    <tr>\n",
              "      <th>0</th>\n",
              "      <td>190</td>\n",
              "      <td>70</td>\n",
              "      <td>44</td>\n",
              "      <td>male</td>\n",
              "    </tr>\n",
              "    <tr>\n",
              "      <th>1</th>\n",
              "      <td>166</td>\n",
              "      <td>65</td>\n",
              "      <td>45</td>\n",
              "      <td>male</td>\n",
              "    </tr>\n",
              "    <tr>\n",
              "      <th>2</th>\n",
              "      <td>190</td>\n",
              "      <td>90</td>\n",
              "      <td>47</td>\n",
              "      <td>male</td>\n",
              "    </tr>\n",
              "    <tr>\n",
              "      <th>3</th>\n",
              "      <td>175</td>\n",
              "      <td>64</td>\n",
              "      <td>39</td>\n",
              "      <td>male</td>\n",
              "    </tr>\n",
              "    <tr>\n",
              "      <th>4</th>\n",
              "      <td>171</td>\n",
              "      <td>75</td>\n",
              "      <td>40</td>\n",
              "      <td>female</td>\n",
              "    </tr>\n",
              "    <tr>\n",
              "      <th>5</th>\n",
              "      <td>177</td>\n",
              "      <td>80</td>\n",
              "      <td>42</td>\n",
              "      <td>female</td>\n",
              "    </tr>\n",
              "    <tr>\n",
              "      <th>6</th>\n",
              "      <td>160</td>\n",
              "      <td>60</td>\n",
              "      <td>38</td>\n",
              "      <td>female</td>\n",
              "    </tr>\n",
              "    <tr>\n",
              "      <th>7</th>\n",
              "      <td>144</td>\n",
              "      <td>54</td>\n",
              "      <td>37</td>\n",
              "      <td>female</td>\n",
              "    </tr>\n",
              "  </tbody>\n",
              "</table>\n",
              "</div>"
            ],
            "text/plain": [
              "   Height  Weight  Shoe Size  Gender\n",
              "0     190      70         44    male\n",
              "1     166      65         45    male\n",
              "2     190      90         47    male\n",
              "3     175      64         39    male\n",
              "4     171      75         40  female\n",
              "5     177      80         42  female\n",
              "6     160      60         38  female\n",
              "7     144      54         37  female"
            ]
          },
          "metadata": {
            "tags": []
          },
          "execution_count": 23
        }
      ]
    },
    {
      "cell_type": "code",
      "metadata": {
        "id": "n-GAD6Va2Ccf"
      },
      "source": [
        "X = df[['Height','Weight','Shoe Size']]\n",
        "Y = df['Gender']\n",
        "\n",
        "#Predict for this vector (height, wieghts, shoe size)\n",
        "P = [[190,80,46]]"
      ],
      "execution_count": 24,
      "outputs": []
    },
    {
      "cell_type": "code",
      "metadata": {
        "colab": {
          "base_uri": "https://localhost:8080/"
        },
        "id": "JYyCFkvu2j2S",
        "outputId": "a0ce77b5-0ed4-4d64-cfd2-63aa30071bde"
      },
      "source": [
        "#{Decision Tree Model}\n",
        "clf = DecisionTreeClassifier()\n",
        "clf = clf.fit(X,Y)\n",
        "print(\"\\n1) Using Decision Tree Prediction is \" + str(clf.predict(P)))"
      ],
      "execution_count": 25,
      "outputs": [
        {
          "output_type": "stream",
          "text": [
            "\n",
            "1) Using Decision Tree Prediction is ['male']\n"
          ],
          "name": "stdout"
        }
      ]
    },
    {
      "cell_type": "code",
      "metadata": {
        "colab": {
          "base_uri": "https://localhost:8080/",
          "height": 303
        },
        "id": "jjdCHx9b9qlV",
        "outputId": "64711d5f-b0a4-4950-8634-834d0218419c"
      },
      "source": [
        "fig = plt.figure(figsize=(10,5))\n",
        "_ = tree.plot_tree(clf, \n",
        "                   feature_names=feature_names,  \n",
        "                   class_names=target_names,\n",
        "                   filled=True)"
      ],
      "execution_count": 26,
      "outputs": [
        {
          "output_type": "display_data",
          "data": {
            "image/png": "[encoded data removed]",
            "text/plain": [
              "<Figure size 720x360 with 1 Axes>"
            ]
          },
          "metadata": {
            "tags": [],
            "needs_background": "light"
          }
        }
      ]
    },
    {
      "cell_type": "code",
      "metadata": {
        "colab": {
          "base_uri": "https://localhost:8080/"
        },
        "id": "wSvl-LHG2wot",
        "outputId": "4887ad40-f0b0-4caa-af3c-62a5a3193656"
      },
      "source": [
        "#{K Neighbors Classifier}\n",
        "clf = KNeighborsClassifier()\n",
        "clf.fit(X,Y)\n",
        "print(\"2) Using K Neighbors Classifier Prediction is \" + str(knn.predict(P)))"
      ],
      "execution_count": 27,
      "outputs": [
        {
          "output_type": "stream",
          "text": [
            "2) Using K Neighbors Classifier Prediction is ['male']\n"
          ],
          "name": "stdout"
        }
      ]
    },
    {
      "cell_type": "code",
      "metadata": {
        "colab": {
          "base_uri": "https://localhost:8080/"
        },
        "id": "RZsqSXHw23Va",
        "outputId": "e82a525c-2341-4607-b9e5-62ef03f7ecfb"
      },
      "source": [
        "#{using RandomForestClassifier}\n",
        "clf = RandomForestClassifier()\n",
        "clf.fit(X,Y)\n",
        "print(\"3) Using RandomForestClassifier Prediction is \" + str(rfor.predict(P)) +\"\\n\")"
      ],
      "execution_count": 28,
      "outputs": [
        {
          "output_type": "stream",
          "text": [
            "3) Using RandomForestClassifier Prediction is ['male']\n",
            "\n"
          ],
          "name": "stdout"
        }
      ]
    }
  ]
}