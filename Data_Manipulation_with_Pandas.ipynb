{
  "nbformat": 4,
  "nbformat_minor": 0,
  "metadata": {
    "colab": {
      "name": "Data Manipulation with Pandas.ipynb",
      "provenance": [],
      "authorship_tag": "ABX9TyO1I+AcxRJYahBxnstmq0cN",
      "include_colab_link": true
    },
    "kernelspec": {
      "name": "python3",
      "display_name": "Python 3"
    },
    "language_info": {
      "name": "python"
    }
  },
  "cells": [
    {
      "cell_type": "markdown",
      "metadata": {
        "id": "view-in-github",
        "colab_type": "text"
      },
      "source": [
        "<a href=\"https://colab.research.google.com/github/erkansengonul/aiworkstr/blob/main/Data_Manipulation_with_Pandas.ipynb\" target=\"_parent\"><img src=\"https://colab.research.google.com/assets/colab-badge.svg\" alt=\"Open In Colab\"/></a>"
      ]
    },
    {
      "cell_type": "code",
      "metadata": {
        "id": "L1c6TU6NvUwt"
      },
      "source": [
        "import pandas as pd"
      ],
      "execution_count": 1,
      "outputs": []
    },
    {
      "cell_type": "code",
      "metadata": {
        "colab": {
          "base_uri": "https://localhost:8080/"
        },
        "id": "RdXotJ2sv77t",
        "outputId": "fc729c22-7276-469a-db10-f535f4b02949"
      },
      "source": [
        "from google.colab import drive\n",
        "drive.mount('/content/drive')"
      ],
      "execution_count": 2,
      "outputs": [
        {
          "output_type": "stream",
          "text": [
            "Mounted at /content/drive\n"
          ],
          "name": "stdout"
        }
      ]
    },
    {
      "cell_type": "code",
      "metadata": {
        "id": "4B3ynOfwyA7S"
      },
      "source": [
        "#To read the data from a csv file, we use the Pandas method pandas.read_csv()\n",
        "data = pd.read_csv('/content/drive/MyDrive/Datasets/Kickstarter Projects/ks-projects-201801.csv')"
      ],
      "execution_count": 4,
      "outputs": []
    },
    {
      "cell_type": "markdown",
      "metadata": {
        "id": "mdC2O8tTy2jF"
      },
      "source": [
        "*   **DataFrames** are two-dimensional arrays. These are like your Excel tables with multiple columns and rows and hence, two-dimensional.\n",
        "*   **Series** are the “columns” in a DataFrame. These objects are one-dimensional only and each can contain only one data type (e.g. strings, floats, datetime, etc.)"
      ]
    },
    {
      "cell_type": "code",
      "metadata": {
        "colab": {
          "base_uri": "https://localhost:8080/"
        },
        "id": "_sBUfao_ybtE",
        "outputId": "683e2c99-b1fc-4cba-c97e-8a30ea2d8f4e"
      },
      "source": [
        "type(data)"
      ],
      "execution_count": 6,
      "outputs": [
        {
          "output_type": "execute_result",
          "data": {
            "text/plain": [
              "pandas.core.frame.DataFrame"
            ]
          },
          "metadata": {
            "tags": []
          },
          "execution_count": 6
        }
      ]
    },
    {
      "cell_type": "markdown",
      "metadata": {
        "id": "976gCD84zMp3"
      },
      "source": [
        "**Viewing Data**\n"
      ]
    },
    {
      "cell_type": "code",
      "metadata": {
        "colab": {
          "base_uri": "https://localhost:8080/"
        },
        "id": "9fMXwJFgzHXt",
        "outputId": "077acfd6-ab47-429b-da48-e9540f40fb25"
      },
      "source": [
        "data.info()"
      ],
      "execution_count": 8,
      "outputs": [
        {
          "output_type": "stream",
          "text": [
            "<class 'pandas.core.frame.DataFrame'>\n",
            "RangeIndex: 378661 entries, 0 to 378660\n",
            "Data columns (total 15 columns):\n",
            " #   Column            Non-Null Count   Dtype  \n",
            "---  ------            --------------   -----  \n",
            " 0   ID                378661 non-null  int64  \n",
            " 1   name              378657 non-null  object \n",
            " 2   category          378661 non-null  object \n",
            " 3   main_category     378661 non-null  object \n",
            " 4   currency          378661 non-null  object \n",
            " 5   deadline          378661 non-null  object \n",
            " 6   goal              378661 non-null  float64\n",
            " 7   launched          378661 non-null  object \n",
            " 8   pledged           378661 non-null  float64\n",
            " 9   state             378661 non-null  object \n",
            " 10  backers           378661 non-null  int64  \n",
            " 11  country           378661 non-null  object \n",
            " 12  usd pledged       374864 non-null  float64\n",
            " 13  usd_pledged_real  378661 non-null  float64\n",
            " 14  usd_goal_real     378661 non-null  float64\n",
            "dtypes: float64(5), int64(2), object(8)\n",
            "memory usage: 43.3+ MB\n"
          ],
          "name": "stdout"
        }
      ]
    },
    {
      "cell_type": "markdown",
      "metadata": {
        "id": "P39VYwOYzg3d"
      },
      "source": [
        "prints out 10 random rows"
      ]
    },
    {
      "cell_type": "code",
      "metadata": {
        "colab": {
          "base_uri": "https://localhost:8080/",
          "height": 864
        },
        "id": "dEv_ZIDfzgnU",
        "outputId": "3eb9c2a4-9abd-4e0f-f369-0540e818ccdd"
      },
      "source": [
        "data.sample(10)"
      ],
      "execution_count": 9,
      "outputs": [
        {
          "output_type": "execute_result",
          "data": {
            "text/html": [
              "<div>\n",
              "<style scoped>\n",
              "    .dataframe tbody tr th:only-of-type {\n",
              "        vertical-align: middle;\n",
              "    }\n",
              "\n",
              "    .dataframe tbody tr th {\n",
              "        vertical-align: top;\n",
              "    }\n",
              "\n",
              "    .dataframe thead th {\n",
              "        text-align: right;\n",
              "    }\n",
              "</style>\n",
              "<table border=\"1\" class=\"dataframe\">\n",
              "  <thead>\n",
              "    <tr style=\"text-align: right;\">\n",
              "      <th></th>\n",
              "      <th>ID</th>\n",
              "      <th>name</th>\n",
              "      <th>category</th>\n",
              "      <th>main_category</th>\n",
              "      <th>currency</th>\n",
              "      <th>deadline</th>\n",
              "      <th>goal</th>\n",
              "      <th>launched</th>\n",
              "      <th>pledged</th>\n",
              "      <th>state</th>\n",
              "      <th>backers</th>\n",
              "      <th>country</th>\n",
              "      <th>usd pledged</th>\n",
              "      <th>usd_pledged_real</th>\n",
              "      <th>usd_goal_real</th>\n",
              "    </tr>\n",
              "  </thead>\n",
              "  <tbody>\n",
              "    <tr>\n",
              "      <th>337610</th>\n",
              "      <td>789691587</td>\n",
              "      <td>Donald Trump Menstrual Pouch</td>\n",
              "      <td>Graphic Design</td>\n",
              "      <td>Design</td>\n",
              "      <td>USD</td>\n",
              "      <td>2015-09-14</td>\n",
              "      <td>100.0</td>\n",
              "      <td>2015-08-15 23:26:08</td>\n",
              "      <td>233.0</td>\n",
              "      <td>successful</td>\n",
              "      <td>23</td>\n",
              "      <td>US</td>\n",
              "      <td>233.00</td>\n",
              "      <td>233.00</td>\n",
              "      <td>100.00</td>\n",
              "    </tr>\n",
              "    <tr>\n",
              "      <th>141897</th>\n",
              "      <td>1720911241</td>\n",
              "      <td>Horse to Horse</td>\n",
              "      <td>Documentary</td>\n",
              "      <td>Film &amp; Video</td>\n",
              "      <td>USD</td>\n",
              "      <td>2015-04-13</td>\n",
              "      <td>15000.0</td>\n",
              "      <td>2015-02-27 04:38:36</td>\n",
              "      <td>0.0</td>\n",
              "      <td>failed</td>\n",
              "      <td>0</td>\n",
              "      <td>US</td>\n",
              "      <td>0.00</td>\n",
              "      <td>0.00</td>\n",
              "      <td>15000.00</td>\n",
              "    </tr>\n",
              "    <tr>\n",
              "      <th>13661</th>\n",
              "      <td>1068787797</td>\n",
              "      <td>Prototype for fuel-less Dynamo Vehicle.</td>\n",
              "      <td>Technology</td>\n",
              "      <td>Technology</td>\n",
              "      <td>USD</td>\n",
              "      <td>2015-03-18</td>\n",
              "      <td>150.0</td>\n",
              "      <td>2015-02-11 20:46:57</td>\n",
              "      <td>50.0</td>\n",
              "      <td>failed</td>\n",
              "      <td>2</td>\n",
              "      <td>US</td>\n",
              "      <td>50.00</td>\n",
              "      <td>50.00</td>\n",
              "      <td>150.00</td>\n",
              "    </tr>\n",
              "    <tr>\n",
              "      <th>28463</th>\n",
              "      <td>1144393608</td>\n",
              "      <td>Help Fund Our Community Efforts</td>\n",
              "      <td>Art</td>\n",
              "      <td>Art</td>\n",
              "      <td>USD</td>\n",
              "      <td>2016-06-24</td>\n",
              "      <td>5000.0</td>\n",
              "      <td>2016-05-25 23:02:35</td>\n",
              "      <td>210.0</td>\n",
              "      <td>failed</td>\n",
              "      <td>7</td>\n",
              "      <td>US</td>\n",
              "      <td>210.00</td>\n",
              "      <td>210.00</td>\n",
              "      <td>5000.00</td>\n",
              "    </tr>\n",
              "    <tr>\n",
              "      <th>18860</th>\n",
              "      <td>1095617948</td>\n",
              "      <td>THE NIGGA PROJECT Experience</td>\n",
              "      <td>Documentary</td>\n",
              "      <td>Film &amp; Video</td>\n",
              "      <td>USD</td>\n",
              "      <td>2014-05-10</td>\n",
              "      <td>6000.0</td>\n",
              "      <td>2014-04-15 22:54:58</td>\n",
              "      <td>26.0</td>\n",
              "      <td>failed</td>\n",
              "      <td>3</td>\n",
              "      <td>US</td>\n",
              "      <td>26.00</td>\n",
              "      <td>26.00</td>\n",
              "      <td>6000.00</td>\n",
              "    </tr>\n",
              "    <tr>\n",
              "      <th>257243</th>\n",
              "      <td>378168025</td>\n",
              "      <td>The Man Who Was Thursday - Illustrated with Sc...</td>\n",
              "      <td>Publishing</td>\n",
              "      <td>Publishing</td>\n",
              "      <td>GBP</td>\n",
              "      <td>2017-06-03</td>\n",
              "      <td>4000.0</td>\n",
              "      <td>2017-05-04 03:41:39</td>\n",
              "      <td>35.0</td>\n",
              "      <td>failed</td>\n",
              "      <td>3</td>\n",
              "      <td>GB</td>\n",
              "      <td>0.00</td>\n",
              "      <td>44.63</td>\n",
              "      <td>5101.00</td>\n",
              "    </tr>\n",
              "    <tr>\n",
              "      <th>369920</th>\n",
              "      <td>954598956</td>\n",
              "      <td>Art And Anchor</td>\n",
              "      <td>Documentary</td>\n",
              "      <td>Film &amp; Video</td>\n",
              "      <td>USD</td>\n",
              "      <td>2015-03-27</td>\n",
              "      <td>50000.0</td>\n",
              "      <td>2015-02-05 19:02:37</td>\n",
              "      <td>6820.0</td>\n",
              "      <td>failed</td>\n",
              "      <td>27</td>\n",
              "      <td>US</td>\n",
              "      <td>6820.00</td>\n",
              "      <td>6820.00</td>\n",
              "      <td>50000.00</td>\n",
              "    </tr>\n",
              "    <tr>\n",
              "      <th>252549</th>\n",
              "      <td>354562343</td>\n",
              "      <td>Project Ethiopia (Suspended)</td>\n",
              "      <td>Photography</td>\n",
              "      <td>Photography</td>\n",
              "      <td>USD</td>\n",
              "      <td>2011-09-01</td>\n",
              "      <td>6000.0</td>\n",
              "      <td>2011-08-12 17:37:34</td>\n",
              "      <td>0.0</td>\n",
              "      <td>suspended</td>\n",
              "      <td>0</td>\n",
              "      <td>US</td>\n",
              "      <td>0.00</td>\n",
              "      <td>0.00</td>\n",
              "      <td>6000.00</td>\n",
              "    </tr>\n",
              "    <tr>\n",
              "      <th>332178</th>\n",
              "      <td>762216931</td>\n",
              "      <td>dottted. Artistic dotted animals products</td>\n",
              "      <td>Product Design</td>\n",
              "      <td>Design</td>\n",
              "      <td>GBP</td>\n",
              "      <td>2016-03-27</td>\n",
              "      <td>800.0</td>\n",
              "      <td>2016-02-26 13:13:52</td>\n",
              "      <td>619.0</td>\n",
              "      <td>failed</td>\n",
              "      <td>20</td>\n",
              "      <td>GB</td>\n",
              "      <td>862.65</td>\n",
              "      <td>885.77</td>\n",
              "      <td>1144.77</td>\n",
              "    </tr>\n",
              "    <tr>\n",
              "      <th>134868</th>\n",
              "      <td>1684580744</td>\n",
              "      <td>Cosplay Fandom Tshirts (Canceled)</td>\n",
              "      <td>Fashion</td>\n",
              "      <td>Fashion</td>\n",
              "      <td>USD</td>\n",
              "      <td>2012-07-14</td>\n",
              "      <td>3000.0</td>\n",
              "      <td>2012-05-30 06:13:05</td>\n",
              "      <td>105.0</td>\n",
              "      <td>canceled</td>\n",
              "      <td>5</td>\n",
              "      <td>US</td>\n",
              "      <td>105.00</td>\n",
              "      <td>105.00</td>\n",
              "      <td>3000.00</td>\n",
              "    </tr>\n",
              "  </tbody>\n",
              "</table>\n",
              "</div>"
            ],
            "text/plain": [
              "                ID  ... usd_goal_real\n",
              "337610   789691587  ...        100.00\n",
              "141897  1720911241  ...      15000.00\n",
              "13661   1068787797  ...        150.00\n",
              "28463   1144393608  ...       5000.00\n",
              "18860   1095617948  ...       6000.00\n",
              "257243   378168025  ...       5101.00\n",
              "369920   954598956  ...      50000.00\n",
              "252549   354562343  ...       6000.00\n",
              "332178   762216931  ...       1144.77\n",
              "134868  1684580744  ...       3000.00\n",
              "\n",
              "[10 rows x 15 columns]"
            ]
          },
          "metadata": {
            "tags": []
          },
          "execution_count": 9
        }
      ]
    },
    {
      "cell_type": "markdown",
      "metadata": {
        "id": "qY97PnFSzsch"
      },
      "source": [
        "Likewise, you can use .head(n) and .tail(n) to show n first and last rows, respectively."
      ]
    },
    {
      "cell_type": "code",
      "metadata": {
        "colab": {
          "base_uri": "https://localhost:8080/",
          "height": 914
        },
        "id": "pqaLflBJzucp",
        "outputId": "bddbd4c7-2722-4896-a9e4-e8114ef2ea2a"
      },
      "source": [
        "data.head(10)"
      ],
      "execution_count": 10,
      "outputs": [
        {
          "output_type": "execute_result",
          "data": {
            "text/html": [
              "<div>\n",
              "<style scoped>\n",
              "    .dataframe tbody tr th:only-of-type {\n",
              "        vertical-align: middle;\n",
              "    }\n",
              "\n",
              "    .dataframe tbody tr th {\n",
              "        vertical-align: top;\n",
              "    }\n",
              "\n",
              "    .dataframe thead th {\n",
              "        text-align: right;\n",
              "    }\n",
              "</style>\n",
              "<table border=\"1\" class=\"dataframe\">\n",
              "  <thead>\n",
              "    <tr style=\"text-align: right;\">\n",
              "      <th></th>\n",
              "      <th>ID</th>\n",
              "      <th>name</th>\n",
              "      <th>category</th>\n",
              "      <th>main_category</th>\n",
              "      <th>currency</th>\n",
              "      <th>deadline</th>\n",
              "      <th>goal</th>\n",
              "      <th>launched</th>\n",
              "      <th>pledged</th>\n",
              "      <th>state</th>\n",
              "      <th>backers</th>\n",
              "      <th>country</th>\n",
              "      <th>usd pledged</th>\n",
              "      <th>usd_pledged_real</th>\n",
              "      <th>usd_goal_real</th>\n",
              "    </tr>\n",
              "  </thead>\n",
              "  <tbody>\n",
              "    <tr>\n",
              "      <th>0</th>\n",
              "      <td>1000002330</td>\n",
              "      <td>The Songs of Adelaide &amp; Abullah</td>\n",
              "      <td>Poetry</td>\n",
              "      <td>Publishing</td>\n",
              "      <td>GBP</td>\n",
              "      <td>2015-10-09</td>\n",
              "      <td>1000.0</td>\n",
              "      <td>2015-08-11 12:12:28</td>\n",
              "      <td>0.00</td>\n",
              "      <td>failed</td>\n",
              "      <td>0</td>\n",
              "      <td>GB</td>\n",
              "      <td>0.00</td>\n",
              "      <td>0.00</td>\n",
              "      <td>1533.95</td>\n",
              "    </tr>\n",
              "    <tr>\n",
              "      <th>1</th>\n",
              "      <td>1000003930</td>\n",
              "      <td>Greeting From Earth: ZGAC Arts Capsule For ET</td>\n",
              "      <td>Narrative Film</td>\n",
              "      <td>Film &amp; Video</td>\n",
              "      <td>USD</td>\n",
              "      <td>2017-11-01</td>\n",
              "      <td>30000.0</td>\n",
              "      <td>2017-09-02 04:43:57</td>\n",
              "      <td>2421.00</td>\n",
              "      <td>failed</td>\n",
              "      <td>15</td>\n",
              "      <td>US</td>\n",
              "      <td>100.00</td>\n",
              "      <td>2421.00</td>\n",
              "      <td>30000.00</td>\n",
              "    </tr>\n",
              "    <tr>\n",
              "      <th>2</th>\n",
              "      <td>1000004038</td>\n",
              "      <td>Where is Hank?</td>\n",
              "      <td>Narrative Film</td>\n",
              "      <td>Film &amp; Video</td>\n",
              "      <td>USD</td>\n",
              "      <td>2013-02-26</td>\n",
              "      <td>45000.0</td>\n",
              "      <td>2013-01-12 00:20:50</td>\n",
              "      <td>220.00</td>\n",
              "      <td>failed</td>\n",
              "      <td>3</td>\n",
              "      <td>US</td>\n",
              "      <td>220.00</td>\n",
              "      <td>220.00</td>\n",
              "      <td>45000.00</td>\n",
              "    </tr>\n",
              "    <tr>\n",
              "      <th>3</th>\n",
              "      <td>1000007540</td>\n",
              "      <td>ToshiCapital Rekordz Needs Help to Complete Album</td>\n",
              "      <td>Music</td>\n",
              "      <td>Music</td>\n",
              "      <td>USD</td>\n",
              "      <td>2012-04-16</td>\n",
              "      <td>5000.0</td>\n",
              "      <td>2012-03-17 03:24:11</td>\n",
              "      <td>1.00</td>\n",
              "      <td>failed</td>\n",
              "      <td>1</td>\n",
              "      <td>US</td>\n",
              "      <td>1.00</td>\n",
              "      <td>1.00</td>\n",
              "      <td>5000.00</td>\n",
              "    </tr>\n",
              "    <tr>\n",
              "      <th>4</th>\n",
              "      <td>1000011046</td>\n",
              "      <td>Community Film Project: The Art of Neighborhoo...</td>\n",
              "      <td>Film &amp; Video</td>\n",
              "      <td>Film &amp; Video</td>\n",
              "      <td>USD</td>\n",
              "      <td>2015-08-29</td>\n",
              "      <td>19500.0</td>\n",
              "      <td>2015-07-04 08:35:03</td>\n",
              "      <td>1283.00</td>\n",
              "      <td>canceled</td>\n",
              "      <td>14</td>\n",
              "      <td>US</td>\n",
              "      <td>1283.00</td>\n",
              "      <td>1283.00</td>\n",
              "      <td>19500.00</td>\n",
              "    </tr>\n",
              "    <tr>\n",
              "      <th>5</th>\n",
              "      <td>1000014025</td>\n",
              "      <td>Monarch Espresso Bar</td>\n",
              "      <td>Restaurants</td>\n",
              "      <td>Food</td>\n",
              "      <td>USD</td>\n",
              "      <td>2016-04-01</td>\n",
              "      <td>50000.0</td>\n",
              "      <td>2016-02-26 13:38:27</td>\n",
              "      <td>52375.00</td>\n",
              "      <td>successful</td>\n",
              "      <td>224</td>\n",
              "      <td>US</td>\n",
              "      <td>52375.00</td>\n",
              "      <td>52375.00</td>\n",
              "      <td>50000.00</td>\n",
              "    </tr>\n",
              "    <tr>\n",
              "      <th>6</th>\n",
              "      <td>1000023410</td>\n",
              "      <td>Support Solar Roasted Coffee &amp; Green Energy!  ...</td>\n",
              "      <td>Food</td>\n",
              "      <td>Food</td>\n",
              "      <td>USD</td>\n",
              "      <td>2014-12-21</td>\n",
              "      <td>1000.0</td>\n",
              "      <td>2014-12-01 18:30:44</td>\n",
              "      <td>1205.00</td>\n",
              "      <td>successful</td>\n",
              "      <td>16</td>\n",
              "      <td>US</td>\n",
              "      <td>1205.00</td>\n",
              "      <td>1205.00</td>\n",
              "      <td>1000.00</td>\n",
              "    </tr>\n",
              "    <tr>\n",
              "      <th>7</th>\n",
              "      <td>1000030581</td>\n",
              "      <td>Chaser Strips. Our Strips make Shots their B*tch!</td>\n",
              "      <td>Drinks</td>\n",
              "      <td>Food</td>\n",
              "      <td>USD</td>\n",
              "      <td>2016-03-17</td>\n",
              "      <td>25000.0</td>\n",
              "      <td>2016-02-01 20:05:12</td>\n",
              "      <td>453.00</td>\n",
              "      <td>failed</td>\n",
              "      <td>40</td>\n",
              "      <td>US</td>\n",
              "      <td>453.00</td>\n",
              "      <td>453.00</td>\n",
              "      <td>25000.00</td>\n",
              "    </tr>\n",
              "    <tr>\n",
              "      <th>8</th>\n",
              "      <td>1000034518</td>\n",
              "      <td>SPIN - Premium Retractable In-Ear Headphones w...</td>\n",
              "      <td>Product Design</td>\n",
              "      <td>Design</td>\n",
              "      <td>USD</td>\n",
              "      <td>2014-05-29</td>\n",
              "      <td>125000.0</td>\n",
              "      <td>2014-04-24 18:14:43</td>\n",
              "      <td>8233.00</td>\n",
              "      <td>canceled</td>\n",
              "      <td>58</td>\n",
              "      <td>US</td>\n",
              "      <td>8233.00</td>\n",
              "      <td>8233.00</td>\n",
              "      <td>125000.00</td>\n",
              "    </tr>\n",
              "    <tr>\n",
              "      <th>9</th>\n",
              "      <td>100004195</td>\n",
              "      <td>STUDIO IN THE SKY - A Documentary Feature Film...</td>\n",
              "      <td>Documentary</td>\n",
              "      <td>Film &amp; Video</td>\n",
              "      <td>USD</td>\n",
              "      <td>2014-08-10</td>\n",
              "      <td>65000.0</td>\n",
              "      <td>2014-07-11 21:55:48</td>\n",
              "      <td>6240.57</td>\n",
              "      <td>canceled</td>\n",
              "      <td>43</td>\n",
              "      <td>US</td>\n",
              "      <td>6240.57</td>\n",
              "      <td>6240.57</td>\n",
              "      <td>65000.00</td>\n",
              "    </tr>\n",
              "  </tbody>\n",
              "</table>\n",
              "</div>"
            ],
            "text/plain": [
              "           ID  ... usd_goal_real\n",
              "0  1000002330  ...       1533.95\n",
              "1  1000003930  ...      30000.00\n",
              "2  1000004038  ...      45000.00\n",
              "3  1000007540  ...       5000.00\n",
              "4  1000011046  ...      19500.00\n",
              "5  1000014025  ...      50000.00\n",
              "6  1000023410  ...       1000.00\n",
              "7  1000030581  ...      25000.00\n",
              "8  1000034518  ...     125000.00\n",
              "9   100004195  ...      65000.00\n",
              "\n",
              "[10 rows x 15 columns]"
            ]
          },
          "metadata": {
            "tags": []
          },
          "execution_count": 10
        }
      ]
    },
    {
      "cell_type": "code",
      "metadata": {
        "colab": {
          "base_uri": "https://localhost:8080/",
          "height": 830
        },
        "id": "EY_mEf1kz3J5",
        "outputId": "c6867fd5-7e35-4d13-dc24-cfbe7f46a83b"
      },
      "source": [
        "data.tail(10)"
      ],
      "execution_count": 11,
      "outputs": [
        {
          "output_type": "execute_result",
          "data": {
            "text/html": [
              "<div>\n",
              "<style scoped>\n",
              "    .dataframe tbody tr th:only-of-type {\n",
              "        vertical-align: middle;\n",
              "    }\n",
              "\n",
              "    .dataframe tbody tr th {\n",
              "        vertical-align: top;\n",
              "    }\n",
              "\n",
              "    .dataframe thead th {\n",
              "        text-align: right;\n",
              "    }\n",
              "</style>\n",
              "<table border=\"1\" class=\"dataframe\">\n",
              "  <thead>\n",
              "    <tr style=\"text-align: right;\">\n",
              "      <th></th>\n",
              "      <th>ID</th>\n",
              "      <th>name</th>\n",
              "      <th>category</th>\n",
              "      <th>main_category</th>\n",
              "      <th>currency</th>\n",
              "      <th>deadline</th>\n",
              "      <th>goal</th>\n",
              "      <th>launched</th>\n",
              "      <th>pledged</th>\n",
              "      <th>state</th>\n",
              "      <th>backers</th>\n",
              "      <th>country</th>\n",
              "      <th>usd pledged</th>\n",
              "      <th>usd_pledged_real</th>\n",
              "      <th>usd_goal_real</th>\n",
              "    </tr>\n",
              "  </thead>\n",
              "  <tbody>\n",
              "    <tr>\n",
              "      <th>378651</th>\n",
              "      <td>999969812</td>\n",
              "      <td>AT THE BEACH</td>\n",
              "      <td>Classical Music</td>\n",
              "      <td>Music</td>\n",
              "      <td>CAD</td>\n",
              "      <td>2014-03-22</td>\n",
              "      <td>5000.0</td>\n",
              "      <td>2014-02-20 01:00:16</td>\n",
              "      <td>5501.0</td>\n",
              "      <td>successful</td>\n",
              "      <td>78</td>\n",
              "      <td>CA</td>\n",
              "      <td>5019.92</td>\n",
              "      <td>4983.69</td>\n",
              "      <td>4529.81</td>\n",
              "    </tr>\n",
              "    <tr>\n",
              "      <th>378652</th>\n",
              "      <td>999971898</td>\n",
              "      <td>Beach Wrestling Documentary</td>\n",
              "      <td>Documentary</td>\n",
              "      <td>Film &amp; Video</td>\n",
              "      <td>NOK</td>\n",
              "      <td>2015-04-28</td>\n",
              "      <td>20000.0</td>\n",
              "      <td>2015-03-29 21:30:33</td>\n",
              "      <td>21500.0</td>\n",
              "      <td>successful</td>\n",
              "      <td>36</td>\n",
              "      <td>NO</td>\n",
              "      <td>2698.97</td>\n",
              "      <td>2875.83</td>\n",
              "      <td>2675.19</td>\n",
              "    </tr>\n",
              "    <tr>\n",
              "      <th>378653</th>\n",
              "      <td>999972264</td>\n",
              "      <td>Islanda</td>\n",
              "      <td>Documentary</td>\n",
              "      <td>Film &amp; Video</td>\n",
              "      <td>USD</td>\n",
              "      <td>2012-03-16</td>\n",
              "      <td>1700.0</td>\n",
              "      <td>2012-02-15 04:31:10</td>\n",
              "      <td>25.0</td>\n",
              "      <td>failed</td>\n",
              "      <td>1</td>\n",
              "      <td>US</td>\n",
              "      <td>25.00</td>\n",
              "      <td>25.00</td>\n",
              "      <td>1700.00</td>\n",
              "    </tr>\n",
              "    <tr>\n",
              "      <th>378654</th>\n",
              "      <td>999975836</td>\n",
              "      <td>Homemade fresh dog food, Cleveland OH</td>\n",
              "      <td>Small Batch</td>\n",
              "      <td>Food</td>\n",
              "      <td>USD</td>\n",
              "      <td>2017-04-19</td>\n",
              "      <td>6500.0</td>\n",
              "      <td>2017-03-20 22:08:22</td>\n",
              "      <td>154.0</td>\n",
              "      <td>failed</td>\n",
              "      <td>4</td>\n",
              "      <td>US</td>\n",
              "      <td>0.00</td>\n",
              "      <td>154.00</td>\n",
              "      <td>6500.00</td>\n",
              "    </tr>\n",
              "    <tr>\n",
              "      <th>378655</th>\n",
              "      <td>999976312</td>\n",
              "      <td>Angela's Poetry (Canceled)</td>\n",
              "      <td>Poetry</td>\n",
              "      <td>Publishing</td>\n",
              "      <td>CAD</td>\n",
              "      <td>2014-09-20</td>\n",
              "      <td>5500.0</td>\n",
              "      <td>2014-08-06 03:46:07</td>\n",
              "      <td>0.0</td>\n",
              "      <td>canceled</td>\n",
              "      <td>0</td>\n",
              "      <td>CA</td>\n",
              "      <td>0.00</td>\n",
              "      <td>0.00</td>\n",
              "      <td>4949.60</td>\n",
              "    </tr>\n",
              "    <tr>\n",
              "      <th>378656</th>\n",
              "      <td>999976400</td>\n",
              "      <td>ChknTruk Nationwide Charity Drive 2014 (Canceled)</td>\n",
              "      <td>Documentary</td>\n",
              "      <td>Film &amp; Video</td>\n",
              "      <td>USD</td>\n",
              "      <td>2014-10-17</td>\n",
              "      <td>50000.0</td>\n",
              "      <td>2014-09-17 02:35:30</td>\n",
              "      <td>25.0</td>\n",
              "      <td>canceled</td>\n",
              "      <td>1</td>\n",
              "      <td>US</td>\n",
              "      <td>25.00</td>\n",
              "      <td>25.00</td>\n",
              "      <td>50000.00</td>\n",
              "    </tr>\n",
              "    <tr>\n",
              "      <th>378657</th>\n",
              "      <td>999977640</td>\n",
              "      <td>The Tribe</td>\n",
              "      <td>Narrative Film</td>\n",
              "      <td>Film &amp; Video</td>\n",
              "      <td>USD</td>\n",
              "      <td>2011-07-19</td>\n",
              "      <td>1500.0</td>\n",
              "      <td>2011-06-22 03:35:14</td>\n",
              "      <td>155.0</td>\n",
              "      <td>failed</td>\n",
              "      <td>5</td>\n",
              "      <td>US</td>\n",
              "      <td>155.00</td>\n",
              "      <td>155.00</td>\n",
              "      <td>1500.00</td>\n",
              "    </tr>\n",
              "    <tr>\n",
              "      <th>378658</th>\n",
              "      <td>999986353</td>\n",
              "      <td>Walls of Remedy- New lesbian Romantic Comedy f...</td>\n",
              "      <td>Narrative Film</td>\n",
              "      <td>Film &amp; Video</td>\n",
              "      <td>USD</td>\n",
              "      <td>2010-08-16</td>\n",
              "      <td>15000.0</td>\n",
              "      <td>2010-07-01 19:40:30</td>\n",
              "      <td>20.0</td>\n",
              "      <td>failed</td>\n",
              "      <td>1</td>\n",
              "      <td>US</td>\n",
              "      <td>20.00</td>\n",
              "      <td>20.00</td>\n",
              "      <td>15000.00</td>\n",
              "    </tr>\n",
              "    <tr>\n",
              "      <th>378659</th>\n",
              "      <td>999987933</td>\n",
              "      <td>BioDefense Education Kit</td>\n",
              "      <td>Technology</td>\n",
              "      <td>Technology</td>\n",
              "      <td>USD</td>\n",
              "      <td>2016-02-13</td>\n",
              "      <td>15000.0</td>\n",
              "      <td>2016-01-13 18:13:53</td>\n",
              "      <td>200.0</td>\n",
              "      <td>failed</td>\n",
              "      <td>6</td>\n",
              "      <td>US</td>\n",
              "      <td>200.00</td>\n",
              "      <td>200.00</td>\n",
              "      <td>15000.00</td>\n",
              "    </tr>\n",
              "    <tr>\n",
              "      <th>378660</th>\n",
              "      <td>999988282</td>\n",
              "      <td>Nou Renmen Ayiti!  We Love Haiti!</td>\n",
              "      <td>Performance Art</td>\n",
              "      <td>Art</td>\n",
              "      <td>USD</td>\n",
              "      <td>2011-08-16</td>\n",
              "      <td>2000.0</td>\n",
              "      <td>2011-07-19 09:07:47</td>\n",
              "      <td>524.0</td>\n",
              "      <td>failed</td>\n",
              "      <td>17</td>\n",
              "      <td>US</td>\n",
              "      <td>524.00</td>\n",
              "      <td>524.00</td>\n",
              "      <td>2000.00</td>\n",
              "    </tr>\n",
              "  </tbody>\n",
              "</table>\n",
              "</div>"
            ],
            "text/plain": [
              "               ID  ... usd_goal_real\n",
              "378651  999969812  ...       4529.81\n",
              "378652  999971898  ...       2675.19\n",
              "378653  999972264  ...       1700.00\n",
              "378654  999975836  ...       6500.00\n",
              "378655  999976312  ...       4949.60\n",
              "378656  999976400  ...      50000.00\n",
              "378657  999977640  ...       1500.00\n",
              "378658  999986353  ...      15000.00\n",
              "378659  999987933  ...      15000.00\n",
              "378660  999988282  ...       2000.00\n",
              "\n",
              "[10 rows x 15 columns]"
            ]
          },
          "metadata": {
            "tags": []
          },
          "execution_count": 11
        }
      ]
    },
    {
      "cell_type": "code",
      "metadata": {
        "colab": {
          "base_uri": "https://localhost:8080/"
        },
        "id": "dnlE5YR6z9tA",
        "outputId": "26c384e9-7d67-458e-b952-ab75c64e6919"
      },
      "source": [
        "# Select a Series\n",
        "# This returns a Series (One-dimensional)\n",
        "data['ID']"
      ],
      "execution_count": 12,
      "outputs": [
        {
          "output_type": "execute_result",
          "data": {
            "text/plain": [
              "0         1000002330\n",
              "1         1000003930\n",
              "2         1000004038\n",
              "3         1000007540\n",
              "4         1000011046\n",
              "             ...    \n",
              "378656     999976400\n",
              "378657     999977640\n",
              "378658     999986353\n",
              "378659     999987933\n",
              "378660     999988282\n",
              "Name: ID, Length: 378661, dtype: int64"
            ]
          },
          "metadata": {
            "tags": []
          },
          "execution_count": 12
        }
      ]
    },
    {
      "cell_type": "code",
      "metadata": {
        "colab": {
          "base_uri": "https://localhost:8080/",
          "height": 417
        },
        "id": "1jUoh_RA0BN-",
        "outputId": "55522286-cc85-4ecb-cd0c-89b0cf2bec15"
      },
      "source": [
        "# Select multiple Series\n",
        "# This returns a DataFrame (Two-dimensional)\n",
        "data[['ID','name']]"
      ],
      "execution_count": 14,
      "outputs": [
        {
          "output_type": "execute_result",
          "data": {
            "text/html": [
              "<div>\n",
              "<style scoped>\n",
              "    .dataframe tbody tr th:only-of-type {\n",
              "        vertical-align: middle;\n",
              "    }\n",
              "\n",
              "    .dataframe tbody tr th {\n",
              "        vertical-align: top;\n",
              "    }\n",
              "\n",
              "    .dataframe thead th {\n",
              "        text-align: right;\n",
              "    }\n",
              "</style>\n",
              "<table border=\"1\" class=\"dataframe\">\n",
              "  <thead>\n",
              "    <tr style=\"text-align: right;\">\n",
              "      <th></th>\n",
              "      <th>ID</th>\n",
              "      <th>name</th>\n",
              "    </tr>\n",
              "  </thead>\n",
              "  <tbody>\n",
              "    <tr>\n",
              "      <th>0</th>\n",
              "      <td>1000002330</td>\n",
              "      <td>The Songs of Adelaide &amp; Abullah</td>\n",
              "    </tr>\n",
              "    <tr>\n",
              "      <th>1</th>\n",
              "      <td>1000003930</td>\n",
              "      <td>Greeting From Earth: ZGAC Arts Capsule For ET</td>\n",
              "    </tr>\n",
              "    <tr>\n",
              "      <th>2</th>\n",
              "      <td>1000004038</td>\n",
              "      <td>Where is Hank?</td>\n",
              "    </tr>\n",
              "    <tr>\n",
              "      <th>3</th>\n",
              "      <td>1000007540</td>\n",
              "      <td>ToshiCapital Rekordz Needs Help to Complete Album</td>\n",
              "    </tr>\n",
              "    <tr>\n",
              "      <th>4</th>\n",
              "      <td>1000011046</td>\n",
              "      <td>Community Film Project: The Art of Neighborhoo...</td>\n",
              "    </tr>\n",
              "    <tr>\n",
              "      <th>...</th>\n",
              "      <td>...</td>\n",
              "      <td>...</td>\n",
              "    </tr>\n",
              "    <tr>\n",
              "      <th>378656</th>\n",
              "      <td>999976400</td>\n",
              "      <td>ChknTruk Nationwide Charity Drive 2014 (Canceled)</td>\n",
              "    </tr>\n",
              "    <tr>\n",
              "      <th>378657</th>\n",
              "      <td>999977640</td>\n",
              "      <td>The Tribe</td>\n",
              "    </tr>\n",
              "    <tr>\n",
              "      <th>378658</th>\n",
              "      <td>999986353</td>\n",
              "      <td>Walls of Remedy- New lesbian Romantic Comedy f...</td>\n",
              "    </tr>\n",
              "    <tr>\n",
              "      <th>378659</th>\n",
              "      <td>999987933</td>\n",
              "      <td>BioDefense Education Kit</td>\n",
              "    </tr>\n",
              "    <tr>\n",
              "      <th>378660</th>\n",
              "      <td>999988282</td>\n",
              "      <td>Nou Renmen Ayiti!  We Love Haiti!</td>\n",
              "    </tr>\n",
              "  </tbody>\n",
              "</table>\n",
              "<p>378661 rows × 2 columns</p>\n",
              "</div>"
            ],
            "text/plain": [
              "                ID                                               name\n",
              "0       1000002330                    The Songs of Adelaide & Abullah\n",
              "1       1000003930      Greeting From Earth: ZGAC Arts Capsule For ET\n",
              "2       1000004038                                     Where is Hank?\n",
              "3       1000007540  ToshiCapital Rekordz Needs Help to Complete Album\n",
              "4       1000011046  Community Film Project: The Art of Neighborhoo...\n",
              "...            ...                                                ...\n",
              "378656   999976400  ChknTruk Nationwide Charity Drive 2014 (Canceled)\n",
              "378657   999977640                                          The Tribe\n",
              "378658   999986353  Walls of Remedy- New lesbian Romantic Comedy f...\n",
              "378659   999987933                           BioDefense Education Kit\n",
              "378660   999988282                  Nou Renmen Ayiti!  We Love Haiti!\n",
              "\n",
              "[378661 rows x 2 columns]"
            ]
          },
          "metadata": {
            "tags": []
          },
          "execution_count": 14
        }
      ]
    },
    {
      "cell_type": "markdown",
      "metadata": {
        "id": "SvyW3GkV0Mcj"
      },
      "source": [
        "**Cleaning Data**\n"
      ]
    },
    {
      "cell_type": "markdown",
      "metadata": {
        "id": "HZ6fJKe70TtJ"
      },
      "source": [
        "**Handling Missing Data**\n",
        "\n",
        "Pandas has several built-in functions to handle missing data. For example, the method .isnull() filters out the missing values. Combined with the aggregation method .sum() , this will yield the total number of missing values in each Series."
      ]
    },
    {
      "cell_type": "code",
      "metadata": {
        "colab": {
          "base_uri": "https://localhost:8080/"
        },
        "id": "QLfcMmvj0K7t",
        "outputId": "163184c3-f4c7-4df3-b628-d2a9d72a5b4c"
      },
      "source": [
        "data.isnull().sum()"
      ],
      "execution_count": 16,
      "outputs": [
        {
          "output_type": "execute_result",
          "data": {
            "text/plain": [
              "ID                     0\n",
              "name                   4\n",
              "category               0\n",
              "main_category          0\n",
              "currency               0\n",
              "deadline               0\n",
              "goal                   0\n",
              "launched               0\n",
              "pledged                0\n",
              "state                  0\n",
              "backers                0\n",
              "country                0\n",
              "usd pledged         3797\n",
              "usd_pledged_real       0\n",
              "usd_goal_real          0\n",
              "dtype: int64"
            ]
          },
          "metadata": {
            "tags": []
          },
          "execution_count": 16
        }
      ]
    },
    {
      "cell_type": "markdown",
      "metadata": {
        "id": "MzeKoP5f0r3X"
      },
      "source": [
        "In our example, we have 4 missing values in the Series name . We can further investigate what those values are by applying a filter."
      ]
    },
    {
      "cell_type": "code",
      "metadata": {
        "colab": {
          "base_uri": "https://localhost:8080/",
          "height": 343
        },
        "id": "ixh2q6bH0sum",
        "outputId": "e0be95d9-21ed-4cc4-dff8-462f2a6ce210"
      },
      "source": [
        "data[data['name'].isnull()]"
      ],
      "execution_count": 18,
      "outputs": [
        {
          "output_type": "execute_result",
          "data": {
            "text/html": [
              "<div>\n",
              "<style scoped>\n",
              "    .dataframe tbody tr th:only-of-type {\n",
              "        vertical-align: middle;\n",
              "    }\n",
              "\n",
              "    .dataframe tbody tr th {\n",
              "        vertical-align: top;\n",
              "    }\n",
              "\n",
              "    .dataframe thead th {\n",
              "        text-align: right;\n",
              "    }\n",
              "</style>\n",
              "<table border=\"1\" class=\"dataframe\">\n",
              "  <thead>\n",
              "    <tr style=\"text-align: right;\">\n",
              "      <th></th>\n",
              "      <th>ID</th>\n",
              "      <th>name</th>\n",
              "      <th>category</th>\n",
              "      <th>main_category</th>\n",
              "      <th>currency</th>\n",
              "      <th>deadline</th>\n",
              "      <th>goal</th>\n",
              "      <th>launched</th>\n",
              "      <th>pledged</th>\n",
              "      <th>state</th>\n",
              "      <th>backers</th>\n",
              "      <th>country</th>\n",
              "      <th>usd pledged</th>\n",
              "      <th>usd_pledged_real</th>\n",
              "      <th>usd_goal_real</th>\n",
              "    </tr>\n",
              "  </thead>\n",
              "  <tbody>\n",
              "    <tr>\n",
              "      <th>166851</th>\n",
              "      <td>1848699072</td>\n",
              "      <td>NaN</td>\n",
              "      <td>Narrative Film</td>\n",
              "      <td>Film &amp; Video</td>\n",
              "      <td>USD</td>\n",
              "      <td>2012-02-29</td>\n",
              "      <td>200000.0</td>\n",
              "      <td>2012-01-01 12:35:31</td>\n",
              "      <td>100.0</td>\n",
              "      <td>failed</td>\n",
              "      <td>1</td>\n",
              "      <td>US</td>\n",
              "      <td>100.00</td>\n",
              "      <td>100.00</td>\n",
              "      <td>200000.00</td>\n",
              "    </tr>\n",
              "    <tr>\n",
              "      <th>307234</th>\n",
              "      <td>634871725</td>\n",
              "      <td>NaN</td>\n",
              "      <td>Video Games</td>\n",
              "      <td>Games</td>\n",
              "      <td>GBP</td>\n",
              "      <td>2013-01-06</td>\n",
              "      <td>2000.0</td>\n",
              "      <td>2012-12-19 23:57:48</td>\n",
              "      <td>196.0</td>\n",
              "      <td>failed</td>\n",
              "      <td>12</td>\n",
              "      <td>GB</td>\n",
              "      <td>317.73</td>\n",
              "      <td>316.05</td>\n",
              "      <td>3224.97</td>\n",
              "    </tr>\n",
              "    <tr>\n",
              "      <th>309991</th>\n",
              "      <td>648853978</td>\n",
              "      <td>NaN</td>\n",
              "      <td>Product Design</td>\n",
              "      <td>Design</td>\n",
              "      <td>USD</td>\n",
              "      <td>2016-07-18</td>\n",
              "      <td>2500.0</td>\n",
              "      <td>2016-06-18 05:01:47</td>\n",
              "      <td>0.0</td>\n",
              "      <td>suspended</td>\n",
              "      <td>0</td>\n",
              "      <td>US</td>\n",
              "      <td>0.00</td>\n",
              "      <td>0.00</td>\n",
              "      <td>2500.00</td>\n",
              "    </tr>\n",
              "    <tr>\n",
              "      <th>338931</th>\n",
              "      <td>796533179</td>\n",
              "      <td>NaN</td>\n",
              "      <td>Painting</td>\n",
              "      <td>Art</td>\n",
              "      <td>USD</td>\n",
              "      <td>2011-12-05</td>\n",
              "      <td>35000.0</td>\n",
              "      <td>2011-11-06 23:55:55</td>\n",
              "      <td>220.0</td>\n",
              "      <td>failed</td>\n",
              "      <td>5</td>\n",
              "      <td>US</td>\n",
              "      <td>220.00</td>\n",
              "      <td>220.00</td>\n",
              "      <td>35000.00</td>\n",
              "    </tr>\n",
              "  </tbody>\n",
              "</table>\n",
              "</div>"
            ],
            "text/plain": [
              "                ID name  ... usd_pledged_real usd_goal_real\n",
              "166851  1848699072  NaN  ...           100.00     200000.00\n",
              "307234   634871725  NaN  ...           316.05       3224.97\n",
              "309991   648853978  NaN  ...             0.00       2500.00\n",
              "338931   796533179  NaN  ...           220.00      35000.00\n",
              "\n",
              "[4 rows x 15 columns]"
            ]
          },
          "metadata": {
            "tags": []
          },
          "execution_count": 18
        }
      ]
    },
    {
      "cell_type": "markdown",
      "metadata": {
        "id": "gF3PK4rQ2pGs"
      },
      "source": [
        "![image.png](data:image/png;base64,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)"
      ]
    },
    {
      "cell_type": "markdown",
      "metadata": {
        "id": "Lb9UmFsu3LXt"
      },
      "source": [
        "The method *.fillna()* replaces the missing data in the selected Series with a specified value. The argument *inplace = True* tells Pandas to make direct changes to the original DataFrame data. Leaving the argument *inplace = False* per default will instead return a new Series with the missing values filled — instead of applying the changes to the actual DataFramedata ."
      ]
    },
    {
      "cell_type": "code",
      "metadata": {
        "id": "65bHkKvd2sl0"
      },
      "source": [
        "data['name'].fillna('Unnamed', inplace = True)"
      ],
      "execution_count": 19,
      "outputs": []
    },
    {
      "cell_type": "code",
      "metadata": {
        "colab": {
          "base_uri": "https://localhost:8080/",
          "height": 343
        },
        "id": "PLJxSvHC3fzd",
        "outputId": "4c1bb687-6c65-49d4-8a48-e49450f0f9e1"
      },
      "source": [
        "data[data['name']=='Unnamed']"
      ],
      "execution_count": 21,
      "outputs": [
        {
          "output_type": "execute_result",
          "data": {
            "text/html": [
              "<div>\n",
              "<style scoped>\n",
              "    .dataframe tbody tr th:only-of-type {\n",
              "        vertical-align: middle;\n",
              "    }\n",
              "\n",
              "    .dataframe tbody tr th {\n",
              "        vertical-align: top;\n",
              "    }\n",
              "\n",
              "    .dataframe thead th {\n",
              "        text-align: right;\n",
              "    }\n",
              "</style>\n",
              "<table border=\"1\" class=\"dataframe\">\n",
              "  <thead>\n",
              "    <tr style=\"text-align: right;\">\n",
              "      <th></th>\n",
              "      <th>ID</th>\n",
              "      <th>name</th>\n",
              "      <th>category</th>\n",
              "      <th>main_category</th>\n",
              "      <th>currency</th>\n",
              "      <th>deadline</th>\n",
              "      <th>goal</th>\n",
              "      <th>launched</th>\n",
              "      <th>pledged</th>\n",
              "      <th>state</th>\n",
              "      <th>backers</th>\n",
              "      <th>country</th>\n",
              "      <th>usd pledged</th>\n",
              "      <th>usd_pledged_real</th>\n",
              "      <th>usd_goal_real</th>\n",
              "    </tr>\n",
              "  </thead>\n",
              "  <tbody>\n",
              "    <tr>\n",
              "      <th>166851</th>\n",
              "      <td>1848699072</td>\n",
              "      <td>Unnamed</td>\n",
              "      <td>Narrative Film</td>\n",
              "      <td>Film &amp; Video</td>\n",
              "      <td>USD</td>\n",
              "      <td>2012-02-29</td>\n",
              "      <td>200000.0</td>\n",
              "      <td>2012-01-01 12:35:31</td>\n",
              "      <td>100.0</td>\n",
              "      <td>failed</td>\n",
              "      <td>1</td>\n",
              "      <td>US</td>\n",
              "      <td>100.00</td>\n",
              "      <td>100.00</td>\n",
              "      <td>200000.00</td>\n",
              "    </tr>\n",
              "    <tr>\n",
              "      <th>307234</th>\n",
              "      <td>634871725</td>\n",
              "      <td>Unnamed</td>\n",
              "      <td>Video Games</td>\n",
              "      <td>Games</td>\n",
              "      <td>GBP</td>\n",
              "      <td>2013-01-06</td>\n",
              "      <td>2000.0</td>\n",
              "      <td>2012-12-19 23:57:48</td>\n",
              "      <td>196.0</td>\n",
              "      <td>failed</td>\n",
              "      <td>12</td>\n",
              "      <td>GB</td>\n",
              "      <td>317.73</td>\n",
              "      <td>316.05</td>\n",
              "      <td>3224.97</td>\n",
              "    </tr>\n",
              "    <tr>\n",
              "      <th>309991</th>\n",
              "      <td>648853978</td>\n",
              "      <td>Unnamed</td>\n",
              "      <td>Product Design</td>\n",
              "      <td>Design</td>\n",
              "      <td>USD</td>\n",
              "      <td>2016-07-18</td>\n",
              "      <td>2500.0</td>\n",
              "      <td>2016-06-18 05:01:47</td>\n",
              "      <td>0.0</td>\n",
              "      <td>suspended</td>\n",
              "      <td>0</td>\n",
              "      <td>US</td>\n",
              "      <td>0.00</td>\n",
              "      <td>0.00</td>\n",
              "      <td>2500.00</td>\n",
              "    </tr>\n",
              "    <tr>\n",
              "      <th>338931</th>\n",
              "      <td>796533179</td>\n",
              "      <td>Unnamed</td>\n",
              "      <td>Painting</td>\n",
              "      <td>Art</td>\n",
              "      <td>USD</td>\n",
              "      <td>2011-12-05</td>\n",
              "      <td>35000.0</td>\n",
              "      <td>2011-11-06 23:55:55</td>\n",
              "      <td>220.0</td>\n",
              "      <td>failed</td>\n",
              "      <td>5</td>\n",
              "      <td>US</td>\n",
              "      <td>220.00</td>\n",
              "      <td>220.00</td>\n",
              "      <td>35000.00</td>\n",
              "    </tr>\n",
              "  </tbody>\n",
              "</table>\n",
              "</div>"
            ],
            "text/plain": [
              "                ID     name  ... usd_pledged_real usd_goal_real\n",
              "166851  1848699072  Unnamed  ...           100.00     200000.00\n",
              "307234   634871725  Unnamed  ...           316.05       3224.97\n",
              "309991   648853978  Unnamed  ...             0.00       2500.00\n",
              "338931   796533179  Unnamed  ...           220.00      35000.00\n",
              "\n",
              "[4 rows x 15 columns]"
            ]
          },
          "metadata": {
            "tags": []
          },
          "execution_count": 21
        }
      ]
    },
    {
      "cell_type": "markdown",
      "metadata": {
        "id": "ITWNQLsl3qj9"
      },
      "source": [
        "**Dropping Series**\n",
        "\n",
        "Sometimes we might want to exclude some unnecessary Series. One reason for this is that it may improve performance, especially when we work with large datasets. However, careful considerations should be taken when deciding which Series to drop, as you might potentially erase useful information."
      ]
    },
    {
      "cell_type": "code",
      "metadata": {
        "id": "_ZYIM1Ao3spm"
      },
      "source": [
        "data.drop(columns = ['ID','name','currency','goal', 'pledged','usd pledged'], inplace = True)"
      ],
      "execution_count": 22,
      "outputs": []
    },
    {
      "cell_type": "code",
      "metadata": {
        "colab": {
          "base_uri": "https://localhost:8080/"
        },
        "id": "2DKZzvKN34Vg",
        "outputId": "bb3a70f4-ddbc-467c-9cb4-f9e0e6b4c6cb"
      },
      "source": [
        "data.info()"
      ],
      "execution_count": 23,
      "outputs": [
        {
          "output_type": "stream",
          "text": [
            "<class 'pandas.core.frame.DataFrame'>\n",
            "RangeIndex: 378661 entries, 0 to 378660\n",
            "Data columns (total 9 columns):\n",
            " #   Column            Non-Null Count   Dtype  \n",
            "---  ------            --------------   -----  \n",
            " 0   category          378661 non-null  object \n",
            " 1   main_category     378661 non-null  object \n",
            " 2   deadline          378661 non-null  object \n",
            " 3   launched          378661 non-null  object \n",
            " 4   state             378661 non-null  object \n",
            " 5   backers           378661 non-null  int64  \n",
            " 6   country           378661 non-null  object \n",
            " 7   usd_pledged_real  378661 non-null  float64\n",
            " 8   usd_goal_real     378661 non-null  float64\n",
            "dtypes: float64(2), int64(1), object(6)\n",
            "memory usage: 26.0+ MB\n"
          ],
          "name": "stdout"
        }
      ]
    },
    {
      "cell_type": "markdown",
      "metadata": {
        "id": "yr5lWn5-6Mor"
      },
      "source": [
        "**Handling Errors**\n",
        "\n",
        "\n",
        "**Numerical Data:** Errors in numerical data require various statistical techniques that are probably too overwhelming for this introductory article.\n",
        "\n",
        "**Categorical Data:** The quickest way to detect errors in categorical data is to print out all unique values."
      ]
    },
    {
      "cell_type": "code",
      "metadata": {
        "colab": {
          "base_uri": "https://localhost:8080/"
        },
        "id": "1WuAPIgD6Rel",
        "outputId": "98adef13-68d1-4ca6-e761-02cbea341d29"
      },
      "source": [
        "#Tekil olanları geitiriyor\n",
        "data['country'].unique()\n"
      ],
      "execution_count": 26,
      "outputs": [
        {
          "output_type": "execute_result",
          "data": {
            "text/plain": [
              "array(['GB', 'US', 'CA', 'AU', 'NO', 'IT', 'DE', 'IE', 'MX', 'ES', 'N,0\"',\n",
              "       'SE', 'FR', 'NL', 'NZ', 'CH', 'AT', 'DK', 'BE', 'HK', 'LU', 'SG',\n",
              "       'JP'], dtype=object)"
            ]
          },
          "metadata": {
            "tags": []
          },
          "execution_count": 26
        }
      ]
    },
    {
      "cell_type": "markdown",
      "metadata": {
        "id": "hzMDPEQoCqb5"
      },
      "source": [
        "A slightly better way is to use pandas’ method .value_counts() , which prints out the unique values AND their frequency.\n"
      ]
    },
    {
      "cell_type": "code",
      "metadata": {
        "colab": {
          "base_uri": "https://localhost:8080/"
        },
        "id": "81A8XtBZCqNi",
        "outputId": "7b60c216-2319-468d-be0a-cb6bb3266a6a"
      },
      "source": [
        "data['country'].value_counts()\n"
      ],
      "execution_count": 27,
      "outputs": [
        {
          "output_type": "execute_result",
          "data": {
            "text/plain": [
              "US      292627\n",
              "GB       33672\n",
              "CA       14756\n",
              "AU        7839\n",
              "DE        4171\n",
              "N,0\"      3797\n",
              "FR        2939\n",
              "IT        2878\n",
              "NL        2868\n",
              "ES        2276\n",
              "SE        1757\n",
              "MX        1752\n",
              "NZ        1447\n",
              "DK        1113\n",
              "IE         811\n",
              "CH         761\n",
              "NO         708\n",
              "HK         618\n",
              "BE         617\n",
              "AT         597\n",
              "SG         555\n",
              "LU          62\n",
              "JP          40\n",
              "Name: country, dtype: int64"
            ]
          },
          "metadata": {
            "tags": []
          },
          "execution_count": 27
        }
      ]
    },
    {
      "cell_type": "code",
      "metadata": {
        "colab": {
          "base_uri": "https://localhost:8080/",
          "height": 357
        },
        "id": "rL0t2HjHC12d",
        "outputId": "b6c4f255-ec47-400d-d9cc-3871166204e6"
      },
      "source": [
        "data[data['country'] == 'N,0\"'].sample(10)\n"
      ],
      "execution_count": 28,
      "outputs": [
        {
          "output_type": "execute_result",
          "data": {
            "text/html": [
              "<div>\n",
              "<style scoped>\n",
              "    .dataframe tbody tr th:only-of-type {\n",
              "        vertical-align: middle;\n",
              "    }\n",
              "\n",
              "    .dataframe tbody tr th {\n",
              "        vertical-align: top;\n",
              "    }\n",
              "\n",
              "    .dataframe thead th {\n",
              "        text-align: right;\n",
              "    }\n",
              "</style>\n",
              "<table border=\"1\" class=\"dataframe\">\n",
              "  <thead>\n",
              "    <tr style=\"text-align: right;\">\n",
              "      <th></th>\n",
              "      <th>category</th>\n",
              "      <th>main_category</th>\n",
              "      <th>deadline</th>\n",
              "      <th>launched</th>\n",
              "      <th>state</th>\n",
              "      <th>backers</th>\n",
              "      <th>country</th>\n",
              "      <th>usd_pledged_real</th>\n",
              "      <th>usd_goal_real</th>\n",
              "    </tr>\n",
              "  </thead>\n",
              "  <tbody>\n",
              "    <tr>\n",
              "      <th>359240</th>\n",
              "      <td>Music</td>\n",
              "      <td>Music</td>\n",
              "      <td>2015-12-18</td>\n",
              "      <td>2015-11-27 22:59:45</td>\n",
              "      <td>undefined</td>\n",
              "      <td>0</td>\n",
              "      <td>N,0\"</td>\n",
              "      <td>200.00</td>\n",
              "      <td>7000.00</td>\n",
              "    </tr>\n",
              "    <tr>\n",
              "      <th>233271</th>\n",
              "      <td>Film &amp; Video</td>\n",
              "      <td>Film &amp; Video</td>\n",
              "      <td>2016-03-27</td>\n",
              "      <td>2016-02-26 16:32:39</td>\n",
              "      <td>undefined</td>\n",
              "      <td>0</td>\n",
              "      <td>N,0\"</td>\n",
              "      <td>2890.55</td>\n",
              "      <td>2861.93</td>\n",
              "    </tr>\n",
              "    <tr>\n",
              "      <th>101754</th>\n",
              "      <td>Music</td>\n",
              "      <td>Music</td>\n",
              "      <td>2015-03-21</td>\n",
              "      <td>2015-02-26 07:53:44</td>\n",
              "      <td>undefined</td>\n",
              "      <td>0</td>\n",
              "      <td>N,0\"</td>\n",
              "      <td>8126.00</td>\n",
              "      <td>8000.00</td>\n",
              "    </tr>\n",
              "    <tr>\n",
              "      <th>136508</th>\n",
              "      <td>Publishing</td>\n",
              "      <td>Publishing</td>\n",
              "      <td>2016-05-08</td>\n",
              "      <td>2016-03-09 19:53:08</td>\n",
              "      <td>failed</td>\n",
              "      <td>0</td>\n",
              "      <td>N,0\"</td>\n",
              "      <td>0.78</td>\n",
              "      <td>1552.55</td>\n",
              "    </tr>\n",
              "    <tr>\n",
              "      <th>93788</th>\n",
              "      <td>Film &amp; Video</td>\n",
              "      <td>Film &amp; Video</td>\n",
              "      <td>2015-03-22</td>\n",
              "      <td>2015-02-24 21:20:25</td>\n",
              "      <td>undefined</td>\n",
              "      <td>0</td>\n",
              "      <td>N,0\"</td>\n",
              "      <td>5550.02</td>\n",
              "      <td>5206.40</td>\n",
              "    </tr>\n",
              "    <tr>\n",
              "      <th>225817</th>\n",
              "      <td>Music</td>\n",
              "      <td>Music</td>\n",
              "      <td>2016-02-22</td>\n",
              "      <td>2015-12-24 19:53:53</td>\n",
              "      <td>undefined</td>\n",
              "      <td>0</td>\n",
              "      <td>N,0\"</td>\n",
              "      <td>172.74</td>\n",
              "      <td>1845.56</td>\n",
              "    </tr>\n",
              "    <tr>\n",
              "      <th>245038</th>\n",
              "      <td>Film &amp; Video</td>\n",
              "      <td>Film &amp; Video</td>\n",
              "      <td>2015-12-10</td>\n",
              "      <td>2015-11-10 18:40:56</td>\n",
              "      <td>undefined</td>\n",
              "      <td>0</td>\n",
              "      <td>N,0\"</td>\n",
              "      <td>0.00</td>\n",
              "      <td>1095.00</td>\n",
              "    </tr>\n",
              "    <tr>\n",
              "      <th>287915</th>\n",
              "      <td>Publishing</td>\n",
              "      <td>Publishing</td>\n",
              "      <td>2015-12-24</td>\n",
              "      <td>2015-11-30 23:07:14</td>\n",
              "      <td>undefined</td>\n",
              "      <td>0</td>\n",
              "      <td>N,0\"</td>\n",
              "      <td>248.74</td>\n",
              "      <td>3604.90</td>\n",
              "    </tr>\n",
              "    <tr>\n",
              "      <th>191644</th>\n",
              "      <td>Music</td>\n",
              "      <td>Music</td>\n",
              "      <td>2016-03-31</td>\n",
              "      <td>2016-02-25 22:11:17</td>\n",
              "      <td>undefined</td>\n",
              "      <td>0</td>\n",
              "      <td>N,0\"</td>\n",
              "      <td>8914.00</td>\n",
              "      <td>7500.00</td>\n",
              "    </tr>\n",
              "    <tr>\n",
              "      <th>251187</th>\n",
              "      <td>Music</td>\n",
              "      <td>Music</td>\n",
              "      <td>2016-04-23</td>\n",
              "      <td>2016-03-12 19:45:19</td>\n",
              "      <td>undefined</td>\n",
              "      <td>0</td>\n",
              "      <td>N,0\"</td>\n",
              "      <td>663.31</td>\n",
              "      <td>1596.42</td>\n",
              "    </tr>\n",
              "  </tbody>\n",
              "</table>\n",
              "</div>"
            ],
            "text/plain": [
              "            category main_category  ... usd_pledged_real usd_goal_real\n",
              "359240         Music         Music  ...           200.00       7000.00\n",
              "233271  Film & Video  Film & Video  ...          2890.55       2861.93\n",
              "101754         Music         Music  ...          8126.00       8000.00\n",
              "136508    Publishing    Publishing  ...             0.78       1552.55\n",
              "93788   Film & Video  Film & Video  ...          5550.02       5206.40\n",
              "225817         Music         Music  ...           172.74       1845.56\n",
              "245038  Film & Video  Film & Video  ...             0.00       1095.00\n",
              "287915    Publishing    Publishing  ...           248.74       3604.90\n",
              "191644         Music         Music  ...          8914.00       7500.00\n",
              "251187         Music         Music  ...           663.31       1596.42\n",
              "\n",
              "[10 rows x 9 columns]"
            ]
          },
          "metadata": {
            "tags": []
          },
          "execution_count": 28
        }
      ]
    },
    {
      "cell_type": "markdown",
      "metadata": {
        "id": "VYLbPh-9C_V_"
      },
      "source": [
        "These values are errors during data collection (undefined state and 0 backer) and since they account for only ~1% of the whole dataset, we can just drop them."
      ]
    },
    {
      "cell_type": "code",
      "metadata": {
        "id": "4aX0uaYbDDop"
      },
      "source": [
        "data = data[data['country'] != 'N,0\"']"
      ],
      "execution_count": 29,
      "outputs": []
    },
    {
      "cell_type": "markdown",
      "metadata": {
        "id": "EjATAiYQDSn2"
      },
      "source": [
        "**Working with Datetime Data**\n",
        "\n",
        "Datetime data often require different types of treatment. For example, we might want to calculate the duration between two dates or extract a time part (month, year, hour, minute, etc.). Pandas makes these tasks simple with built-in datetime functions.\n",
        "\n",
        "First, we will need to convert the datetime Series to correct their correct data types."
      ]
    },
    {
      "cell_type": "code",
      "metadata": {
        "colab": {
          "base_uri": "https://localhost:8080/"
        },
        "id": "3P0laMT0DV3j",
        "outputId": "0729da98-4cc3-42d3-87d7-b8ff443d9eb3"
      },
      "source": [
        "data['deadline'] = pd.to_datetime(data['deadline'])\n",
        "data['launched'] = pd.to_datetime(data['launched'])"
      ],
      "execution_count": 31,
      "outputs": [
        {
          "output_type": "stream",
          "text": [
            "/usr/local/lib/python3.7/dist-packages/ipykernel_launcher.py:1: SettingWithCopyWarning: \n",
            "A value is trying to be set on a copy of a slice from a DataFrame.\n",
            "Try using .loc[row_indexer,col_indexer] = value instead\n",
            "\n",
            "See the caveats in the documentation: https://pandas.pydata.org/pandas-docs/stable/user_guide/indexing.html#returning-a-view-versus-a-copy\n",
            "  \"\"\"Entry point for launching an IPython kernel.\n",
            "/usr/local/lib/python3.7/dist-packages/ipykernel_launcher.py:2: SettingWithCopyWarning: \n",
            "A value is trying to be set on a copy of a slice from a DataFrame.\n",
            "Try using .loc[row_indexer,col_indexer] = value instead\n",
            "\n",
            "See the caveats in the documentation: https://pandas.pydata.org/pandas-docs/stable/user_guide/indexing.html#returning-a-view-versus-a-copy\n",
            "  \n"
          ],
          "name": "stderr"
        }
      ]
    },
    {
      "cell_type": "code",
      "metadata": {
        "colab": {
          "base_uri": "https://localhost:8080/"
        },
        "id": "Zbb3PWj1Dqet",
        "outputId": "9d592417-794a-44d8-9cbc-71dedb6b9f38"
      },
      "source": [
        "data.info()"
      ],
      "execution_count": 33,
      "outputs": [
        {
          "output_type": "stream",
          "text": [
            "<class 'pandas.core.frame.DataFrame'>\n",
            "Int64Index: 374864 entries, 0 to 378660\n",
            "Data columns (total 9 columns):\n",
            " #   Column            Non-Null Count   Dtype         \n",
            "---  ------            --------------   -----         \n",
            " 0   category          374864 non-null  object        \n",
            " 1   main_category     374864 non-null  object        \n",
            " 2   deadline          374864 non-null  datetime64[ns]\n",
            " 3   launched          374864 non-null  datetime64[ns]\n",
            " 4   state             374864 non-null  object        \n",
            " 5   backers           374864 non-null  int64         \n",
            " 6   country           374864 non-null  object        \n",
            " 7   usd_pledged_real  374864 non-null  float64       \n",
            " 8   usd_goal_real     374864 non-null  float64       \n",
            "dtypes: datetime64[ns](2), float64(2), int64(1), object(4)\n",
            "memory usage: 28.6+ MB\n"
          ],
          "name": "stdout"
        }
      ]
    },
    {
      "cell_type": "markdown",
      "metadata": {
        "id": "Kv-71oMsDw76"
      },
      "source": [
        "To extract any datetime component, we use the sub-module dt .\n"
      ]
    },
    {
      "cell_type": "code",
      "metadata": {
        "colab": {
          "base_uri": "https://localhost:8080/"
        },
        "id": "A1CDfuchDx18",
        "outputId": "f2bc0441-3b19-4989-e50e-8e52ebd8ccee"
      },
      "source": [
        "data['launched_year'] = data['launched'].dt.year"
      ],
      "execution_count": 39,
      "outputs": [
        {
          "output_type": "stream",
          "text": [
            "/usr/local/lib/python3.7/dist-packages/ipykernel_launcher.py:1: SettingWithCopyWarning: \n",
            "A value is trying to be set on a copy of a slice from a DataFrame.\n",
            "Try using .loc[row_indexer,col_indexer] = value instead\n",
            "\n",
            "See the caveats in the documentation: https://pandas.pydata.org/pandas-docs/stable/user_guide/indexing.html#returning-a-view-versus-a-copy\n",
            "  \"\"\"Entry point for launching an IPython kernel.\n"
          ],
          "name": "stderr"
        }
      ]
    },
    {
      "cell_type": "code",
      "metadata": {
        "colab": {
          "base_uri": "https://localhost:8080/"
        },
        "id": "PwxKmr0JEaZx",
        "outputId": "ab567a1e-e415-4617-91ba-92ac2c3d3996"
      },
      "source": [
        "data['launched_year']"
      ],
      "execution_count": 40,
      "outputs": [
        {
          "output_type": "execute_result",
          "data": {
            "text/plain": [
              "0         2015\n",
              "1         2017\n",
              "2         2013\n",
              "3         2012\n",
              "4         2015\n",
              "          ... \n",
              "378656    2014\n",
              "378657    2011\n",
              "378658    2010\n",
              "378659    2016\n",
              "378660    2011\n",
              "Name: launched_year, Length: 374864, dtype: int64"
            ]
          },
          "metadata": {
            "tags": []
          },
          "execution_count": 40
        }
      ]
    },
    {
      "cell_type": "code",
      "metadata": {
        "colab": {
          "base_uri": "https://localhost:8080/"
        },
        "id": "FocbomMxErTB",
        "outputId": "696870db-2754-405e-f00d-06bc5347f77a"
      },
      "source": [
        "data['launched_year'].min()\n"
      ],
      "execution_count": 41,
      "outputs": [
        {
          "output_type": "execute_result",
          "data": {
            "text/plain": [
              "1970"
            ]
          },
          "metadata": {
            "tags": []
          },
          "execution_count": 41
        }
      ]
    },
    {
      "cell_type": "markdown",
      "metadata": {
        "id": "gkmJRRWNExPf"
      },
      "source": [
        "This code returns 1970, which doesn’t make any sense as Kickstarter was founded in 2008! This is obviously an error so we can exclude any rows with launched year less than 2008 from our DataFrame."
      ]
    },
    {
      "cell_type": "code",
      "metadata": {
        "id": "xBajbGQcE0B2"
      },
      "source": [
        "data = data[data['launched_year'] >= 2008]\n"
      ],
      "execution_count": 42,
      "outputs": []
    },
    {
      "cell_type": "markdown",
      "metadata": {
        "id": "XyVrJWgdFCk5"
      },
      "source": [
        "To calculate the duration of the projects, we can just take the difference between deadline and launched Series.\n"
      ]
    },
    {
      "cell_type": "code",
      "metadata": {
        "colab": {
          "base_uri": "https://localhost:8080/"
        },
        "id": "YcFWZ2fkFDRN",
        "outputId": "7731812e-983b-4ea7-fb42-55021a9e7ebf"
      },
      "source": [
        "data['duration'] = data['deadline'] - data['launched']\n"
      ],
      "execution_count": 43,
      "outputs": [
        {
          "output_type": "stream",
          "text": [
            "/usr/local/lib/python3.7/dist-packages/ipykernel_launcher.py:1: SettingWithCopyWarning: \n",
            "A value is trying to be set on a copy of a slice from a DataFrame.\n",
            "Try using .loc[row_indexer,col_indexer] = value instead\n",
            "\n",
            "See the caveats in the documentation: https://pandas.pydata.org/pandas-docs/stable/user_guide/indexing.html#returning-a-view-versus-a-copy\n",
            "  \"\"\"Entry point for launching an IPython kernel.\n"
          ],
          "name": "stderr"
        }
      ]
    },
    {
      "cell_type": "code",
      "metadata": {
        "colab": {
          "base_uri": "https://localhost:8080/"
        },
        "id": "cahp4ng1FS3F",
        "outputId": "f75e7770-dc7c-48ab-f1f8-e8a1ea931afe"
      },
      "source": [
        "data['duration']"
      ],
      "execution_count": 44,
      "outputs": [
        {
          "output_type": "execute_result",
          "data": {
            "text/plain": [
              "0        58 days 11:47:32\n",
              "1        59 days 19:16:03\n",
              "2        44 days 23:39:10\n",
              "3        29 days 20:35:49\n",
              "4        55 days 15:24:57\n",
              "               ...       \n",
              "378656   29 days 21:24:30\n",
              "378657   26 days 20:24:46\n",
              "378658   45 days 04:19:30\n",
              "378659   30 days 05:46:07\n",
              "378660   27 days 14:52:13\n",
              "Name: duration, Length: 374857, dtype: timedelta64[ns]"
            ]
          },
          "metadata": {
            "tags": []
          },
          "execution_count": 44
        }
      ]
    },
    {
      "cell_type": "markdown",
      "metadata": {
        "id": "PqFV6c_DFaPr"
      },
      "source": [
        "This performs element-wise subtraction between the two datetime Series and returns a timedelta Series, which we can convert to time component like month or day."
      ]
    },
    {
      "cell_type": "code",
      "metadata": {
        "colab": {
          "base_uri": "https://localhost:8080/"
        },
        "id": "W4LXB6lgFZXS",
        "outputId": "858c1de5-86eb-4a04-b1d0-905840a38c0f"
      },
      "source": [
        "import numpy as np\n",
        "data['duration'] = data['duration'] // np.timedelta64(1, 'D')"
      ],
      "execution_count": 45,
      "outputs": [
        {
          "output_type": "stream",
          "text": [
            "/usr/local/lib/python3.7/dist-packages/ipykernel_launcher.py:2: SettingWithCopyWarning: \n",
            "A value is trying to be set on a copy of a slice from a DataFrame.\n",
            "Try using .loc[row_indexer,col_indexer] = value instead\n",
            "\n",
            "See the caveats in the documentation: https://pandas.pydata.org/pandas-docs/stable/user_guide/indexing.html#returning-a-view-versus-a-copy\n",
            "  \n"
          ],
          "name": "stderr"
        }
      ]
    },
    {
      "cell_type": "code",
      "metadata": {
        "colab": {
          "base_uri": "https://localhost:8080/"
        },
        "id": "pefPOH9EFvkU",
        "outputId": "9b3bef5e-ee68-4561-8cbb-d2f154bb4225"
      },
      "source": [
        "data['duration']"
      ],
      "execution_count": 46,
      "outputs": [
        {
          "output_type": "execute_result",
          "data": {
            "text/plain": [
              "0         58\n",
              "1         59\n",
              "2         44\n",
              "3         29\n",
              "4         55\n",
              "          ..\n",
              "378656    29\n",
              "378657    26\n",
              "378658    45\n",
              "378659    30\n",
              "378660    27\n",
              "Name: duration, Length: 374857, dtype: int64"
            ]
          },
          "metadata": {
            "tags": []
          },
          "execution_count": 46
        }
      ]
    },
    {
      "cell_type": "code",
      "metadata": {
        "colab": {
          "base_uri": "https://localhost:8080/"
        },
        "id": "U0DPM1ukHwtQ",
        "outputId": "9d91893b-bf46-45c9-b4cd-65b49b737d65"
      },
      "source": [
        "data.info()"
      ],
      "execution_count": 49,
      "outputs": [
        {
          "output_type": "stream",
          "text": [
            "<class 'pandas.core.frame.DataFrame'>\n",
            "Int64Index: 374857 entries, 0 to 378660\n",
            "Data columns (total 11 columns):\n",
            " #   Column            Non-Null Count   Dtype         \n",
            "---  ------            --------------   -----         \n",
            " 0   category          374857 non-null  object        \n",
            " 1   main_category     374857 non-null  object        \n",
            " 2   deadline          374857 non-null  datetime64[ns]\n",
            " 3   launched          374857 non-null  datetime64[ns]\n",
            " 4   state             374857 non-null  object        \n",
            " 5   backers           374857 non-null  int64         \n",
            " 6   country           374857 non-null  object        \n",
            " 7   usd_pledged_real  374857 non-null  float64       \n",
            " 8   usd_goal_real     374857 non-null  float64       \n",
            " 9   launched_year     374857 non-null  int64         \n",
            " 10  duration          374857 non-null  int64         \n",
            "dtypes: datetime64[ns](2), float64(2), int64(3), object(4)\n",
            "memory usage: 34.3+ MB\n"
          ],
          "name": "stdout"
        }
      ]
    }
  ]
}