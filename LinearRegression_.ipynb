{
  "nbformat": 4,
  "nbformat_minor": 0,
  "metadata": {
    "colab": {
      "name": "LinearRegression .ipynb",
      "provenance": [],
      "authorship_tag": "ABX9TyNQuyENF2a7JjuberAna5Sk",
      "include_colab_link": true
    },
    "kernelspec": {
      "name": "python3",
      "display_name": "Python 3"
    },
    "language_info": {
      "name": "python"
    }
  },
  "cells": [
    {
      "cell_type": "markdown",
      "metadata": {
        "id": "view-in-github",
        "colab_type": "text"
      },
      "source": [
        "<a href=\"https://colab.research.google.com/github/erkansengonul/aiworkstr/blob/main/LinearRegression_.ipynb\" target=\"_parent\"><img src=\"https://colab.research.google.com/assets/colab-badge.svg\" alt=\"Open In Colab\"/></a>"
      ]
    },
    {
      "cell_type": "code",
      "metadata": {
        "id": "RWcWff83H8NU"
      },
      "source": [
        "import numpy as np\n",
        "from sklearn.linear_model import LinearRegression"
      ],
      "execution_count": 9,
      "outputs": []
    },
    {
      "cell_type": "code",
      "metadata": {
        "id": "yV71d6JqIEKT"
      },
      "source": [
        "x = np.array([2743, 3518, 1855, 5214, 4341]).reshape((-1, 1))\n",
        "y = np.array([21.4, 15.2, 38.9, 12.7, 17.8])"
      ],
      "execution_count": 13,
      "outputs": []
    },
    {
      "cell_type": "code",
      "metadata": {
        "colab": {
          "base_uri": "https://localhost:8080/"
        },
        "id": "wr0D995wIX-L",
        "outputId": "2a1ae89d-1596-4bea-ce6a-02b5d0889253"
      },
      "source": [
        "print(x)"
      ],
      "execution_count": 14,
      "outputs": [
        {
          "output_type": "stream",
          "text": [
            "[[2743]\n",
            " [3518]\n",
            " [1855]\n",
            " [5214]\n",
            " [4341]]\n"
          ],
          "name": "stdout"
        }
      ]
    },
    {
      "cell_type": "code",
      "metadata": {
        "colab": {
          "base_uri": "https://localhost:8080/"
        },
        "id": "_fRuXA_hIb9J",
        "outputId": "ae27a42e-b1ac-4ee6-ce04-415796a03bc8"
      },
      "source": [
        "print(y)"
      ],
      "execution_count": 15,
      "outputs": [
        {
          "output_type": "stream",
          "text": [
            "[21.4 15.2 38.9 12.7 17.8]\n"
          ],
          "name": "stdout"
        }
      ]
    },
    {
      "cell_type": "code",
      "metadata": {
        "id": "BC7KlGsgIj35"
      },
      "source": [
        "model = LinearRegression()\n",
        "model.fit(x, y)\n",
        "model = LinearRegression().fit(x, y)"
      ],
      "execution_count": 16,
      "outputs": []
    },
    {
      "cell_type": "markdown",
      "metadata": {
        "id": "rI7RvlLXNQMy"
      },
      "source": [
        "coefficient of determination (𝑅²) "
      ]
    },
    {
      "cell_type": "code",
      "metadata": {
        "colab": {
          "base_uri": "https://localhost:8080/"
        },
        "id": "BkEiqs7WNKXn",
        "outputId": "18f6711f-a1af-4505-a9ec-a3e5d89e4ccb"
      },
      "source": [
        "r_sq = model.score(x, y)\n",
        "print('coefficient of determination:', r_sq)"
      ],
      "execution_count": 17,
      "outputs": [
        {
          "output_type": "stream",
          "text": [
            "coefficient of determination: 0.7310099894107271\n"
          ],
          "name": "stdout"
        }
      ]
    },
    {
      "cell_type": "markdown",
      "metadata": {
        "id": "TPjrAa_rQslw"
      },
      "source": [
        "Y = (model.coef_ * X) + (model.intercept_)\n",
        "\n",
        "Y = -0.00676497 * X + 45.10875557270988"
      ]
    },
    {
      "cell_type": "code",
      "metadata": {
        "colab": {
          "base_uri": "https://localhost:8080/"
        },
        "id": "yD_q9RoxQeub",
        "outputId": "d3a18096-eb63-4d6b-d7d7-96e8b277a2a5"
      },
      "source": [
        "print('intercept:', model.intercept_)\n",
        "print('slope:', model.coef_)"
      ],
      "execution_count": 20,
      "outputs": [
        {
          "output_type": "stream",
          "text": [
            "intercept: 45.10875557270988\n",
            "slope: [-0.00676497]\n"
          ],
          "name": "stdout"
        }
      ]
    },
    {
      "cell_type": "code",
      "metadata": {
        "colab": {
          "base_uri": "https://localhost:8080/"
        },
        "id": "tvMTFhA5Ss80",
        "outputId": "e2d94a08-1978-49d9-a5ff-426f2534851e"
      },
      "source": [
        "y_pred = model.predict(x)\n",
        "print('predicted y:', y_pred, sep='\\n')"
      ],
      "execution_count": 25,
      "outputs": [
        {
          "output_type": "stream",
          "text": [
            "predicted y:\n",
            "[26.55244395 21.30959251 32.55973696  9.83620406 15.74202252]\n"
          ],
          "name": "stdout"
        }
      ]
    },
    {
      "cell_type": "code",
      "metadata": {
        "colab": {
          "base_uri": "https://localhost:8080/"
        },
        "id": "jpFNqy0GRlbX",
        "outputId": "bb1d0593-5b34-49a8-c3f8-379729da9597"
      },
      "source": [
        "from sklearn import metrics\n",
        "\n",
        "mae = metrics.mean_absolute_error(y, y_pred)\n",
        "mse = metrics.mean_squared_error(y, y_pred)\n",
        "\n",
        "\n",
        "print('MAE:', mae)\n",
        "print('MSE:', mse)\n"
      ],
      "execution_count": 29,
      "outputs": [
        {
          "output_type": "stream",
          "text": [
            "MAE: 4.504814583148205\n",
            "MSE: 23.30206663732752\n"
          ],
          "name": "stdout"
        }
      ]
    },
    {
      "cell_type": "code",
      "metadata": {
        "colab": {
          "base_uri": "https://localhost:8080/"
        },
        "id": "xGWJDrGlU037",
        "outputId": "e1f36866-b1a4-4976-f4d5-caae52582d05"
      },
      "source": [
        "distance = y-y_pred\n",
        "print('Distance between y_true and y_pred:', distance)\n",
        "\n",
        "squared_distance = np.square(distance)\n",
        "print('Distance between y_true and y_pred (Square):', squared_distance)\n",
        "\n",
        "absolute_distance = np.absolute(distance)\n",
        "print('Distance between y_true and y_pred (Absolute):', absolute_distance)\n",
        "\n",
        "print('Mean Absolute Error', np.sum(absolute_distance) / np.size(absolute_distance))\n",
        "print('Mean Squared Error', np.sum(squared_distance) / np.size(absolute_distance))\n"
      ],
      "execution_count": 43,
      "outputs": [
        {
          "output_type": "stream",
          "text": [
            "Distance between y_true and y_pred: [-5.15244395 -6.10959251  6.34026304  2.86379594  2.05797748]\n",
            "Distance between y_true and y_pred (Square): [26.54767866 37.32712061 40.19893544  8.20132719  4.23527129]\n",
            "Distance between y_true and y_pred (Absolute): [5.15244395 6.10959251 6.34026304 2.86379594 2.05797748]\n",
            "Mean Absolute Error 4.504814583148205\n",
            "Mean Squared Error 23.30206663732752\n"
          ],
          "name": "stdout"
        }
      ]
    }
  ]
}