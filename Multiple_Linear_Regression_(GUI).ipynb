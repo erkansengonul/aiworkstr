{
  "nbformat": 4,
  "nbformat_minor": 0,
  "metadata": {
    "colab": {
      "name": "Multiple Linear Regression (GUI).ipynb",
      "provenance": [],
      "authorship_tag": "ABX9TyOu0GzA++H2yPqAWlGjMk+0",
      "include_colab_link": true
    },
    "kernelspec": {
      "name": "python3",
      "display_name": "Python 3"
    },
    "language_info": {
      "name": "python"
    }
  },
  "cells": [
    {
      "cell_type": "markdown",
      "metadata": {
        "id": "view-in-github",
        "colab_type": "text"
      },
      "source": [
        "<a href=\"https://colab.research.google.com/github/erkansengonul/aiworkstr/blob/main/Multiple_Linear_Regression_(GUI).ipynb\" target=\"_parent\"><img src=\"https://colab.research.google.com/assets/colab-badge.svg\" alt=\"Open In Colab\"/></a>"
      ]
    },
    {
      "cell_type": "code",
      "metadata": {
        "colab": {
          "base_uri": "https://localhost:8080/",
          "height": 414
        },
        "id": "43Bjy16k2LgF",
        "outputId": "894cff35-0d0b-493a-92ae-2e355716f63a"
      },
      "source": [
        "import pandas as pd\n",
        "from sklearn import linear_model\n",
        "import tkinter as tk \n",
        "import matplotlib.pyplot as plt\n",
        "from matplotlib.backends.backend_tkagg import FigureCanvasTkAgg\n",
        "\n",
        "Stock_Market = {'Year': [2017,2017,2017,2017,2017,2017,2017,2017,2017,2017,2017,2017,2016,2016,2016,2016,2016,2016,2016,2016,2016,2016,2016,2016],\n",
        "                'Month': [12, 11,10,9,8,7,6,5,4,3,2,1,12,11,10,9,8,7,6,5,4,3,2,1],\n",
        "                'Interest_Rate': [2.75,2.5,2.5,2.5,2.5,2.5,2.5,2.25,2.25,2.25,2,2,2,1.75,1.75,1.75,1.75,1.75,1.75,1.75,1.75,1.75,1.75,1.75],\n",
        "                'Unemployment_Rate': [5.3,5.3,5.3,5.3,5.4,5.6,5.5,5.5,5.5,5.6,5.7,5.9,6,5.9,5.8,6.1,6.2,6.1,6.1,6.1,5.9,6.2,6.2,6.1],\n",
        "                'Stock_Index_Price': [1464,1394,1357,1293,1256,1254,1234,1195,1159,1167,1130,1075,1047,965,943,958,971,949,884,866,876,822,704,719]        \n",
        "                }\n",
        "\n",
        "df = pd.DataFrame(Stock_Market,columns=['Year','Month','Interest_Rate','Unemployment_Rate','Stock_Index_Price']) \n",
        "\n",
        "X = df[['Interest_Rate','Unemployment_Rate']].astype(float) # here we have 2 input variables for multiple regression. If you just want to use one variable for simple linear regression, then use X = df['Interest_Rate'] for example.Alternatively, you may add additional variables within the brackets\n",
        "Y = df['Stock_Index_Price'].astype(float) # output variable (what we are trying to predict)\n",
        "\n",
        "# with sklearn\n",
        "regr = linear_model.LinearRegression()\n",
        "regr.fit(X, Y)\n",
        "\n",
        "print('Intercept: \\n', regr.intercept_)\n",
        "print('Coefficients: \\n', regr.coef_)\n",
        "\n",
        "# tkinter GUI\n",
        "root= tk.Tk()\n",
        "\n",
        "canvas1 = tk.Canvas(root, width = 500, height = 300)\n",
        "canvas1.pack()\n",
        "\n",
        "# with sklearn\n",
        "Intercept_result = ('Intercept: ', regr.intercept_)\n",
        "label_Intercept = tk.Label(root, text=Intercept_result, justify = 'center')\n",
        "canvas1.create_window(260, 220, window=label_Intercept)\n",
        "\n",
        "# with sklearn\n",
        "Coefficients_result  = ('Coefficients: ', regr.coef_)\n",
        "label_Coefficients = tk.Label(root, text=Coefficients_result, justify = 'center')\n",
        "canvas1.create_window(260, 240, window=label_Coefficients)\n",
        "\n",
        "# New_Interest_Rate label and input box\n",
        "label1 = tk.Label(root, text='Type Interest Rate: ')\n",
        "canvas1.create_window(100, 100, window=label1)\n",
        "\n",
        "entry1 = tk.Entry (root) # create 1st entry box\n",
        "canvas1.create_window(270, 100, window=entry1)\n",
        "\n",
        "# New_Unemployment_Rate label and input box\n",
        "label2 = tk.Label(root, text=' Type Unemployment Rate: ')\n",
        "canvas1.create_window(120, 120, window=label2)\n",
        "\n",
        "entry2 = tk.Entry (root) # create 2nd entry box\n",
        "canvas1.create_window(270, 120, window=entry2)\n",
        "\n",
        "def values(): \n",
        "    global New_Interest_Rate #our 1st input variable\n",
        "    New_Interest_Rate = float(entry1.get()) \n",
        "    \n",
        "    global New_Unemployment_Rate #our 2nd input variable\n",
        "    New_Unemployment_Rate = float(entry2.get()) \n",
        "    \n",
        "    Prediction_result  = ('Predicted Stock Index Price: ', regr.predict([[New_Interest_Rate ,New_Unemployment_Rate]]))\n",
        "    label_Prediction = tk.Label(root, text= Prediction_result, bg='orange')\n",
        "    canvas1.create_window(260, 280, window=label_Prediction)\n",
        "    \n",
        "button1 = tk.Button (root, text='Predict Stock Index Price',command=values, bg='orange') # button to call the 'values' command above \n",
        "canvas1.create_window(270, 150, window=button1)\n",
        " \n",
        "#plot 1st scatter \n",
        "figure3 = plt.Figure(figsize=(5,4), dpi=100)\n",
        "ax3 = figure3.add_subplot(111)\n",
        "ax3.scatter(df['Interest_Rate'].astype(float),df['Stock_Index_Price'].astype(float), color = 'r')\n",
        "scatter3 = FigureCanvasTkAgg(figure3, root) \n",
        "scatter3.get_tk_widget().pack(side=tk.RIGHT, fill=tk.BOTH)\n",
        "ax3.legend(['Stock_Index_Price']) \n",
        "ax3.set_xlabel('Interest Rate')\n",
        "ax3.set_title('Interest Rate Vs. Stock Index Price')\n",
        "\n",
        "#plot 2nd scatter \n",
        "figure4 = plt.Figure(figsize=(5,4), dpi=100)\n",
        "ax4 = figure4.add_subplot(111)\n",
        "ax4.scatter(df['Unemployment_Rate'].astype(float),df['Stock_Index_Price'].astype(float), color = 'g')\n",
        "scatter4 = FigureCanvasTkAgg(figure4, root) \n",
        "scatter4.get_tk_widget().pack(side=tk.RIGHT, fill=tk.BOTH)\n",
        "ax4.legend(['Stock_Index_Price']) \n",
        "ax4.set_xlabel('Unemployment_Rate')\n",
        "ax4.set_title('Unemployment_Rate Vs. Stock Index Price')\n",
        "\n",
        "root.mainloop()"
      ],
      "execution_count": 1,
      "outputs": [
        {
          "output_type": "stream",
          "text": [
            "Intercept: \n",
            " 1798.4039776258546\n",
            "Coefficients: \n",
            " [ 345.54008701 -250.14657137]\n"
          ],
          "name": "stdout"
        },
        {
          "output_type": "error",
          "ename": "TclError",
          "evalue": "ignored",
          "traceback": [
            "\u001b[0;31m---------------------------------------------------------------------------\u001b[0m",
            "\u001b[0;31mTclError\u001b[0m                                  Traceback (most recent call last)",
            "\u001b[0;32m<ipython-input-1-182001661e10>\u001b[0m in \u001b[0;36m<module>\u001b[0;34m()\u001b[0m\n\u001b[1;32m     25\u001b[0m \u001b[0;34m\u001b[0m\u001b[0m\n\u001b[1;32m     26\u001b[0m \u001b[0;31m# tkinter GUI\u001b[0m\u001b[0;34m\u001b[0m\u001b[0;34m\u001b[0m\u001b[0;34m\u001b[0m\u001b[0m\n\u001b[0;32m---> 27\u001b[0;31m \u001b[0mroot\u001b[0m\u001b[0;34m=\u001b[0m \u001b[0mtk\u001b[0m\u001b[0;34m.\u001b[0m\u001b[0mTk\u001b[0m\u001b[0;34m(\u001b[0m\u001b[0;34m)\u001b[0m\u001b[0;34m\u001b[0m\u001b[0;34m\u001b[0m\u001b[0m\n\u001b[0m\u001b[1;32m     28\u001b[0m \u001b[0;34m\u001b[0m\u001b[0m\n\u001b[1;32m     29\u001b[0m \u001b[0mcanvas1\u001b[0m \u001b[0;34m=\u001b[0m \u001b[0mtk\u001b[0m\u001b[0;34m.\u001b[0m\u001b[0mCanvas\u001b[0m\u001b[0;34m(\u001b[0m\u001b[0mroot\u001b[0m\u001b[0;34m,\u001b[0m \u001b[0mwidth\u001b[0m \u001b[0;34m=\u001b[0m \u001b[0;36m500\u001b[0m\u001b[0;34m,\u001b[0m \u001b[0mheight\u001b[0m \u001b[0;34m=\u001b[0m \u001b[0;36m300\u001b[0m\u001b[0;34m)\u001b[0m\u001b[0;34m\u001b[0m\u001b[0;34m\u001b[0m\u001b[0m\n",
            "\u001b[0;32m/usr/lib/python3.7/tkinter/__init__.py\u001b[0m in \u001b[0;36m__init__\u001b[0;34m(self, screenName, baseName, className, useTk, sync, use)\u001b[0m\n\u001b[1;32m   2021\u001b[0m                 \u001b[0mbaseName\u001b[0m \u001b[0;34m=\u001b[0m \u001b[0mbaseName\u001b[0m \u001b[0;34m+\u001b[0m \u001b[0mext\u001b[0m\u001b[0;34m\u001b[0m\u001b[0;34m\u001b[0m\u001b[0m\n\u001b[1;32m   2022\u001b[0m         \u001b[0minteractive\u001b[0m \u001b[0;34m=\u001b[0m \u001b[0;36m0\u001b[0m\u001b[0;34m\u001b[0m\u001b[0;34m\u001b[0m\u001b[0m\n\u001b[0;32m-> 2023\u001b[0;31m         \u001b[0mself\u001b[0m\u001b[0;34m.\u001b[0m\u001b[0mtk\u001b[0m \u001b[0;34m=\u001b[0m \u001b[0m_tkinter\u001b[0m\u001b[0;34m.\u001b[0m\u001b[0mcreate\u001b[0m\u001b[0;34m(\u001b[0m\u001b[0mscreenName\u001b[0m\u001b[0;34m,\u001b[0m \u001b[0mbaseName\u001b[0m\u001b[0;34m,\u001b[0m \u001b[0mclassName\u001b[0m\u001b[0;34m,\u001b[0m \u001b[0minteractive\u001b[0m\u001b[0;34m,\u001b[0m \u001b[0mwantobjects\u001b[0m\u001b[0;34m,\u001b[0m \u001b[0museTk\u001b[0m\u001b[0;34m,\u001b[0m \u001b[0msync\u001b[0m\u001b[0;34m,\u001b[0m \u001b[0muse\u001b[0m\u001b[0;34m)\u001b[0m\u001b[0;34m\u001b[0m\u001b[0;34m\u001b[0m\u001b[0m\n\u001b[0m\u001b[1;32m   2024\u001b[0m         \u001b[0;32mif\u001b[0m \u001b[0museTk\u001b[0m\u001b[0;34m:\u001b[0m\u001b[0;34m\u001b[0m\u001b[0;34m\u001b[0m\u001b[0m\n\u001b[1;32m   2025\u001b[0m             \u001b[0mself\u001b[0m\u001b[0;34m.\u001b[0m\u001b[0m_loadtk\u001b[0m\u001b[0;34m(\u001b[0m\u001b[0;34m)\u001b[0m\u001b[0;34m\u001b[0m\u001b[0;34m\u001b[0m\u001b[0m\n",
            "\u001b[0;31mTclError\u001b[0m: no display name and no $DISPLAY environment variable"
          ]
        }
      ]
    }
  ]
}