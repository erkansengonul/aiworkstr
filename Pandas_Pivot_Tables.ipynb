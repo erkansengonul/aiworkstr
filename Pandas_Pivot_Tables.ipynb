{
  "nbformat": 4,
  "nbformat_minor": 0,
  "metadata": {
    "colab": {
      "name": "Pandas Pivot Tables.ipynb",
      "provenance": [],
      "authorship_tag": "ABX9TyMSWJmhWzerAV9E05zr78Xm",
      "include_colab_link": true
    },
    "kernelspec": {
      "name": "python3",
      "display_name": "Python 3"
    },
    "language_info": {
      "name": "python"
    }
  },
  "cells": [
    {
      "cell_type": "markdown",
      "metadata": {
        "id": "view-in-github",
        "colab_type": "text"
      },
      "source": [
        "<a href=\"https://colab.research.google.com/github/erkansengonul/aiworkstr/blob/main/Pandas_Pivot_Tables.ipynb\" target=\"_parent\"><img src=\"https://colab.research.google.com/assets/colab-badge.svg\" alt=\"Open In Colab\"/></a>"
      ]
    },
    {
      "cell_type": "code",
      "metadata": {
        "id": "EKr-0VFX0iTC"
      },
      "source": [
        "https://pbpython.com/pandas-pivot-table-explained.html"
      ],
      "execution_count": null,
      "outputs": []
    },
    {
      "cell_type": "code",
      "metadata": {
        "colab": {
          "base_uri": "https://localhost:8080/"
        },
        "id": "i1ZkSVDyyklw",
        "outputId": "6db915da-b31d-4cd9-9844-2f2798d2f904"
      },
      "source": [
        "from google.colab import drive \n",
        "drive.mount('/content/gdrive')"
      ],
      "execution_count": 1,
      "outputs": [
        {
          "output_type": "stream",
          "text": [
            "Mounted at /content/gdrive\n"
          ],
          "name": "stdout"
        }
      ]
    },
    {
      "cell_type": "code",
      "metadata": {
        "id": "md52kfV_mX78"
      },
      "source": [
        "import pandas as pd\n",
        "import numpy as np"
      ],
      "execution_count": 7,
      "outputs": []
    },
    {
      "cell_type": "code",
      "metadata": {
        "colab": {
          "base_uri": "https://localhost:8080/",
          "height": 203
        },
        "id": "DGyR_AZUy0zo",
        "outputId": "891fc917-5a5c-4217-d0f4-175864cb4f62"
      },
      "source": [
        "df = pd.read_excel(\"/content/gdrive/MyDrive/Datasets/sales-funnel.xlsx\")\n",
        "df.head()"
      ],
      "execution_count": 16,
      "outputs": [
        {
          "output_type": "execute_result",
          "data": {
            "text/html": [
              "<div>\n",
              "<style scoped>\n",
              "    .dataframe tbody tr th:only-of-type {\n",
              "        vertical-align: middle;\n",
              "    }\n",
              "\n",
              "    .dataframe tbody tr th {\n",
              "        vertical-align: top;\n",
              "    }\n",
              "\n",
              "    .dataframe thead th {\n",
              "        text-align: right;\n",
              "    }\n",
              "</style>\n",
              "<table border=\"1\" class=\"dataframe\">\n",
              "  <thead>\n",
              "    <tr style=\"text-align: right;\">\n",
              "      <th></th>\n",
              "      <th>Account</th>\n",
              "      <th>Name</th>\n",
              "      <th>Rep</th>\n",
              "      <th>Manager</th>\n",
              "      <th>Product</th>\n",
              "      <th>Quantity</th>\n",
              "      <th>Price</th>\n",
              "      <th>Status</th>\n",
              "    </tr>\n",
              "  </thead>\n",
              "  <tbody>\n",
              "    <tr>\n",
              "      <th>0</th>\n",
              "      <td>714466</td>\n",
              "      <td>Trantow-Barrows</td>\n",
              "      <td>Craig Booker</td>\n",
              "      <td>Debra Henley</td>\n",
              "      <td>CPU</td>\n",
              "      <td>1</td>\n",
              "      <td>30000</td>\n",
              "      <td>presented</td>\n",
              "    </tr>\n",
              "    <tr>\n",
              "      <th>1</th>\n",
              "      <td>714466</td>\n",
              "      <td>Trantow-Barrows</td>\n",
              "      <td>Craig Booker</td>\n",
              "      <td>Debra Henley</td>\n",
              "      <td>Software</td>\n",
              "      <td>1</td>\n",
              "      <td>10000</td>\n",
              "      <td>presented</td>\n",
              "    </tr>\n",
              "    <tr>\n",
              "      <th>2</th>\n",
              "      <td>714466</td>\n",
              "      <td>Trantow-Barrows</td>\n",
              "      <td>Craig Booker</td>\n",
              "      <td>Debra Henley</td>\n",
              "      <td>Maintenance</td>\n",
              "      <td>2</td>\n",
              "      <td>5000</td>\n",
              "      <td>pending</td>\n",
              "    </tr>\n",
              "    <tr>\n",
              "      <th>3</th>\n",
              "      <td>737550</td>\n",
              "      <td>Fritsch, Russel and Anderson</td>\n",
              "      <td>Craig Booker</td>\n",
              "      <td>Debra Henley</td>\n",
              "      <td>CPU</td>\n",
              "      <td>1</td>\n",
              "      <td>35000</td>\n",
              "      <td>declined</td>\n",
              "    </tr>\n",
              "    <tr>\n",
              "      <th>4</th>\n",
              "      <td>146832</td>\n",
              "      <td>Kiehn-Spinka</td>\n",
              "      <td>Daniel Hilton</td>\n",
              "      <td>Debra Henley</td>\n",
              "      <td>CPU</td>\n",
              "      <td>2</td>\n",
              "      <td>65000</td>\n",
              "      <td>won</td>\n",
              "    </tr>\n",
              "  </tbody>\n",
              "</table>\n",
              "</div>"
            ],
            "text/plain": [
              "   Account                          Name  ...  Price     Status\n",
              "0   714466               Trantow-Barrows  ...  30000  presented\n",
              "1   714466               Trantow-Barrows  ...  10000  presented\n",
              "2   714466               Trantow-Barrows  ...   5000    pending\n",
              "3   737550  Fritsch, Russel and Anderson  ...  35000   declined\n",
              "4   146832                  Kiehn-Spinka  ...  65000        won\n",
              "\n",
              "[5 rows x 8 columns]"
            ]
          },
          "metadata": {
            "tags": []
          },
          "execution_count": 16
        }
      ]
    },
    {
      "cell_type": "code",
      "metadata": {
        "colab": {
          "base_uri": "https://localhost:8080/"
        },
        "id": "wPJ1H6kIzX74",
        "outputId": "1d24ebf9-4cbc-478d-d1ae-bae5c5827e90"
      },
      "source": [
        "df[\"Status\"]"
      ],
      "execution_count": 17,
      "outputs": [
        {
          "output_type": "execute_result",
          "data": {
            "text/plain": [
              "0     presented\n",
              "1     presented\n",
              "2       pending\n",
              "3      declined\n",
              "4           won\n",
              "5       pending\n",
              "6     presented\n",
              "7       pending\n",
              "8      declined\n",
              "9           won\n",
              "10    presented\n",
              "11      pending\n",
              "12    presented\n",
              "13          won\n",
              "14          won\n",
              "15     declined\n",
              "16    presented\n",
              "Name: Status, dtype: object"
            ]
          },
          "metadata": {
            "tags": []
          },
          "execution_count": 17
        }
      ]
    },
    {
      "cell_type": "code",
      "metadata": {
        "id": "aLbdSO56zHt9"
      },
      "source": [
        "df[\"Status\"] = df[\"Status\"].astype(\"category\")\n",
        "df[\"Status\"].cat.set_categories([\"won\",\"pending\",\"presented\",\"declined\"],inplace=True)"
      ],
      "execution_count": 18,
      "outputs": []
    },
    {
      "cell_type": "code",
      "metadata": {
        "colab": {
          "base_uri": "https://localhost:8080/"
        },
        "id": "qEkG3IPHzdT-",
        "outputId": "73cf0d4e-a31c-479c-c6b9-ae80fca9773b"
      },
      "source": [
        "df[\"Status\"]"
      ],
      "execution_count": 19,
      "outputs": [
        {
          "output_type": "execute_result",
          "data": {
            "text/plain": [
              "0     presented\n",
              "1     presented\n",
              "2       pending\n",
              "3      declined\n",
              "4           won\n",
              "5       pending\n",
              "6     presented\n",
              "7       pending\n",
              "8      declined\n",
              "9           won\n",
              "10    presented\n",
              "11      pending\n",
              "12    presented\n",
              "13          won\n",
              "14          won\n",
              "15     declined\n",
              "16    presented\n",
              "Name: Status, dtype: category\n",
              "Categories (4, object): ['won', 'pending', 'presented', 'declined']"
            ]
          },
          "metadata": {
            "tags": []
          },
          "execution_count": 19
        }
      ]
    },
    {
      "cell_type": "markdown",
      "metadata": {
        "id": "6SBVVuc90kCJ"
      },
      "source": [
        "**Pivot the data**\n"
      ]
    },
    {
      "cell_type": "code",
      "metadata": {
        "colab": {
          "base_uri": "https://localhost:8080/",
          "height": 450
        },
        "id": "vj0TUTmM0jvZ",
        "outputId": "e1a420b6-2ea1-4cfb-ae31-b209180218c9"
      },
      "source": [
        "pd.pivot_table(df,index=[\"Name\"])\n",
        "#Sayısal rakamların aritmetik toplamı alınıyor"
      ],
      "execution_count": 20,
      "outputs": [
        {
          "output_type": "execute_result",
          "data": {
            "text/html": [
              "<div>\n",
              "<style scoped>\n",
              "    .dataframe tbody tr th:only-of-type {\n",
              "        vertical-align: middle;\n",
              "    }\n",
              "\n",
              "    .dataframe tbody tr th {\n",
              "        vertical-align: top;\n",
              "    }\n",
              "\n",
              "    .dataframe thead th {\n",
              "        text-align: right;\n",
              "    }\n",
              "</style>\n",
              "<table border=\"1\" class=\"dataframe\">\n",
              "  <thead>\n",
              "    <tr style=\"text-align: right;\">\n",
              "      <th></th>\n",
              "      <th>Account</th>\n",
              "      <th>Price</th>\n",
              "      <th>Quantity</th>\n",
              "    </tr>\n",
              "    <tr>\n",
              "      <th>Name</th>\n",
              "      <th></th>\n",
              "      <th></th>\n",
              "      <th></th>\n",
              "    </tr>\n",
              "  </thead>\n",
              "  <tbody>\n",
              "    <tr>\n",
              "      <th>Barton LLC</th>\n",
              "      <td>740150</td>\n",
              "      <td>35000</td>\n",
              "      <td>1.000000</td>\n",
              "    </tr>\n",
              "    <tr>\n",
              "      <th>Fritsch, Russel and Anderson</th>\n",
              "      <td>737550</td>\n",
              "      <td>35000</td>\n",
              "      <td>1.000000</td>\n",
              "    </tr>\n",
              "    <tr>\n",
              "      <th>Herman LLC</th>\n",
              "      <td>141962</td>\n",
              "      <td>65000</td>\n",
              "      <td>2.000000</td>\n",
              "    </tr>\n",
              "    <tr>\n",
              "      <th>Jerde-Hilpert</th>\n",
              "      <td>412290</td>\n",
              "      <td>5000</td>\n",
              "      <td>2.000000</td>\n",
              "    </tr>\n",
              "    <tr>\n",
              "      <th>Kassulke, Ondricka and Metz</th>\n",
              "      <td>307599</td>\n",
              "      <td>7000</td>\n",
              "      <td>3.000000</td>\n",
              "    </tr>\n",
              "    <tr>\n",
              "      <th>Keeling LLC</th>\n",
              "      <td>688981</td>\n",
              "      <td>100000</td>\n",
              "      <td>5.000000</td>\n",
              "    </tr>\n",
              "    <tr>\n",
              "      <th>Kiehn-Spinka</th>\n",
              "      <td>146832</td>\n",
              "      <td>65000</td>\n",
              "      <td>2.000000</td>\n",
              "    </tr>\n",
              "    <tr>\n",
              "      <th>Koepp Ltd</th>\n",
              "      <td>729833</td>\n",
              "      <td>35000</td>\n",
              "      <td>2.000000</td>\n",
              "    </tr>\n",
              "    <tr>\n",
              "      <th>Kulas Inc</th>\n",
              "      <td>218895</td>\n",
              "      <td>25000</td>\n",
              "      <td>1.500000</td>\n",
              "    </tr>\n",
              "    <tr>\n",
              "      <th>Purdy-Kunde</th>\n",
              "      <td>163416</td>\n",
              "      <td>30000</td>\n",
              "      <td>1.000000</td>\n",
              "    </tr>\n",
              "    <tr>\n",
              "      <th>Stokes LLC</th>\n",
              "      <td>239344</td>\n",
              "      <td>7500</td>\n",
              "      <td>1.000000</td>\n",
              "    </tr>\n",
              "    <tr>\n",
              "      <th>Trantow-Barrows</th>\n",
              "      <td>714466</td>\n",
              "      <td>15000</td>\n",
              "      <td>1.333333</td>\n",
              "    </tr>\n",
              "  </tbody>\n",
              "</table>\n",
              "</div>"
            ],
            "text/plain": [
              "                              Account   Price  Quantity\n",
              "Name                                                   \n",
              "Barton LLC                     740150   35000  1.000000\n",
              "Fritsch, Russel and Anderson   737550   35000  1.000000\n",
              "Herman LLC                     141962   65000  2.000000\n",
              "Jerde-Hilpert                  412290    5000  2.000000\n",
              "Kassulke, Ondricka and Metz    307599    7000  3.000000\n",
              "Keeling LLC                    688981  100000  5.000000\n",
              "Kiehn-Spinka                   146832   65000  2.000000\n",
              "Koepp Ltd                      729833   35000  2.000000\n",
              "Kulas Inc                      218895   25000  1.500000\n",
              "Purdy-Kunde                    163416   30000  1.000000\n",
              "Stokes LLC                     239344    7500  1.000000\n",
              "Trantow-Barrows                714466   15000  1.333333"
            ]
          },
          "metadata": {
            "tags": []
          },
          "execution_count": 20
        }
      ]
    },
    {
      "cell_type": "code",
      "metadata": {
        "colab": {
          "base_uri": "https://localhost:8080/",
          "height": 450
        },
        "id": "AZuj_0z75OzO",
        "outputId": "70a80b59-1b0c-4431-d8b8-d1ebe4f8b332"
      },
      "source": [
        "pd.pivot_table(df,index=[\"Name\",\"Rep\",\"Manager\"])"
      ],
      "execution_count": 23,
      "outputs": [
        {
          "output_type": "execute_result",
          "data": {
            "text/html": [
              "<div>\n",
              "<style scoped>\n",
              "    .dataframe tbody tr th:only-of-type {\n",
              "        vertical-align: middle;\n",
              "    }\n",
              "\n",
              "    .dataframe tbody tr th {\n",
              "        vertical-align: top;\n",
              "    }\n",
              "\n",
              "    .dataframe thead th {\n",
              "        text-align: right;\n",
              "    }\n",
              "</style>\n",
              "<table border=\"1\" class=\"dataframe\">\n",
              "  <thead>\n",
              "    <tr style=\"text-align: right;\">\n",
              "      <th></th>\n",
              "      <th></th>\n",
              "      <th></th>\n",
              "      <th>Account</th>\n",
              "      <th>Price</th>\n",
              "      <th>Quantity</th>\n",
              "    </tr>\n",
              "    <tr>\n",
              "      <th>Name</th>\n",
              "      <th>Rep</th>\n",
              "      <th>Manager</th>\n",
              "      <th></th>\n",
              "      <th></th>\n",
              "      <th></th>\n",
              "    </tr>\n",
              "  </thead>\n",
              "  <tbody>\n",
              "    <tr>\n",
              "      <th>Barton LLC</th>\n",
              "      <th>John Smith</th>\n",
              "      <th>Debra Henley</th>\n",
              "      <td>740150</td>\n",
              "      <td>35000</td>\n",
              "      <td>1.000000</td>\n",
              "    </tr>\n",
              "    <tr>\n",
              "      <th>Fritsch, Russel and Anderson</th>\n",
              "      <th>Craig Booker</th>\n",
              "      <th>Debra Henley</th>\n",
              "      <td>737550</td>\n",
              "      <td>35000</td>\n",
              "      <td>1.000000</td>\n",
              "    </tr>\n",
              "    <tr>\n",
              "      <th>Herman LLC</th>\n",
              "      <th>Cedric Moss</th>\n",
              "      <th>Fred Anderson</th>\n",
              "      <td>141962</td>\n",
              "      <td>65000</td>\n",
              "      <td>2.000000</td>\n",
              "    </tr>\n",
              "    <tr>\n",
              "      <th>Jerde-Hilpert</th>\n",
              "      <th>John Smith</th>\n",
              "      <th>Debra Henley</th>\n",
              "      <td>412290</td>\n",
              "      <td>5000</td>\n",
              "      <td>2.000000</td>\n",
              "    </tr>\n",
              "    <tr>\n",
              "      <th>Kassulke, Ondricka and Metz</th>\n",
              "      <th>Wendy Yule</th>\n",
              "      <th>Fred Anderson</th>\n",
              "      <td>307599</td>\n",
              "      <td>7000</td>\n",
              "      <td>3.000000</td>\n",
              "    </tr>\n",
              "    <tr>\n",
              "      <th>Keeling LLC</th>\n",
              "      <th>Wendy Yule</th>\n",
              "      <th>Fred Anderson</th>\n",
              "      <td>688981</td>\n",
              "      <td>100000</td>\n",
              "      <td>5.000000</td>\n",
              "    </tr>\n",
              "    <tr>\n",
              "      <th>Kiehn-Spinka</th>\n",
              "      <th>Daniel Hilton</th>\n",
              "      <th>Debra Henley</th>\n",
              "      <td>146832</td>\n",
              "      <td>65000</td>\n",
              "      <td>2.000000</td>\n",
              "    </tr>\n",
              "    <tr>\n",
              "      <th>Koepp Ltd</th>\n",
              "      <th>Wendy Yule</th>\n",
              "      <th>Fred Anderson</th>\n",
              "      <td>729833</td>\n",
              "      <td>35000</td>\n",
              "      <td>2.000000</td>\n",
              "    </tr>\n",
              "    <tr>\n",
              "      <th>Kulas Inc</th>\n",
              "      <th>Daniel Hilton</th>\n",
              "      <th>Debra Henley</th>\n",
              "      <td>218895</td>\n",
              "      <td>25000</td>\n",
              "      <td>1.500000</td>\n",
              "    </tr>\n",
              "    <tr>\n",
              "      <th>Purdy-Kunde</th>\n",
              "      <th>Cedric Moss</th>\n",
              "      <th>Fred Anderson</th>\n",
              "      <td>163416</td>\n",
              "      <td>30000</td>\n",
              "      <td>1.000000</td>\n",
              "    </tr>\n",
              "    <tr>\n",
              "      <th>Stokes LLC</th>\n",
              "      <th>Cedric Moss</th>\n",
              "      <th>Fred Anderson</th>\n",
              "      <td>239344</td>\n",
              "      <td>7500</td>\n",
              "      <td>1.000000</td>\n",
              "    </tr>\n",
              "    <tr>\n",
              "      <th>Trantow-Barrows</th>\n",
              "      <th>Craig Booker</th>\n",
              "      <th>Debra Henley</th>\n",
              "      <td>714466</td>\n",
              "      <td>15000</td>\n",
              "      <td>1.333333</td>\n",
              "    </tr>\n",
              "  </tbody>\n",
              "</table>\n",
              "</div>"
            ],
            "text/plain": [
              "                                                          Account  ...  Quantity\n",
              "Name                         Rep           Manager                 ...          \n",
              "Barton LLC                   John Smith    Debra Henley    740150  ...  1.000000\n",
              "Fritsch, Russel and Anderson Craig Booker  Debra Henley    737550  ...  1.000000\n",
              "Herman LLC                   Cedric Moss   Fred Anderson   141962  ...  2.000000\n",
              "Jerde-Hilpert                John Smith    Debra Henley    412290  ...  2.000000\n",
              "Kassulke, Ondricka and Metz  Wendy Yule    Fred Anderson   307599  ...  3.000000\n",
              "Keeling LLC                  Wendy Yule    Fred Anderson   688981  ...  5.000000\n",
              "Kiehn-Spinka                 Daniel Hilton Debra Henley    146832  ...  2.000000\n",
              "Koepp Ltd                    Wendy Yule    Fred Anderson   729833  ...  2.000000\n",
              "Kulas Inc                    Daniel Hilton Debra Henley    218895  ...  1.500000\n",
              "Purdy-Kunde                  Cedric Moss   Fred Anderson   163416  ...  1.000000\n",
              "Stokes LLC                   Cedric Moss   Fred Anderson   239344  ...  1.000000\n",
              "Trantow-Barrows              Craig Booker  Debra Henley    714466  ...  1.333333\n",
              "\n",
              "[12 rows x 3 columns]"
            ]
          },
          "metadata": {
            "tags": []
          },
          "execution_count": 23
        }
      ]
    },
    {
      "cell_type": "code",
      "metadata": {
        "colab": {
          "base_uri": "https://localhost:8080/",
          "height": 234
        },
        "id": "eleiAjvs6huw",
        "outputId": "2dec413a-11d5-46f3-d2c1-f5cf090d11c5"
      },
      "source": [
        "pd.pivot_table(df,index=[\"Manager\",\"Rep\"])"
      ],
      "execution_count": 24,
      "outputs": [
        {
          "output_type": "execute_result",
          "data": {
            "text/html": [
              "<div>\n",
              "<style scoped>\n",
              "    .dataframe tbody tr th:only-of-type {\n",
              "        vertical-align: middle;\n",
              "    }\n",
              "\n",
              "    .dataframe tbody tr th {\n",
              "        vertical-align: top;\n",
              "    }\n",
              "\n",
              "    .dataframe thead th {\n",
              "        text-align: right;\n",
              "    }\n",
              "</style>\n",
              "<table border=\"1\" class=\"dataframe\">\n",
              "  <thead>\n",
              "    <tr style=\"text-align: right;\">\n",
              "      <th></th>\n",
              "      <th></th>\n",
              "      <th>Account</th>\n",
              "      <th>Price</th>\n",
              "      <th>Quantity</th>\n",
              "    </tr>\n",
              "    <tr>\n",
              "      <th>Manager</th>\n",
              "      <th>Rep</th>\n",
              "      <th></th>\n",
              "      <th></th>\n",
              "      <th></th>\n",
              "    </tr>\n",
              "  </thead>\n",
              "  <tbody>\n",
              "    <tr>\n",
              "      <th rowspan=\"3\" valign=\"top\">Debra Henley</th>\n",
              "      <th>Craig Booker</th>\n",
              "      <td>720237.0</td>\n",
              "      <td>20000.000000</td>\n",
              "      <td>1.250000</td>\n",
              "    </tr>\n",
              "    <tr>\n",
              "      <th>Daniel Hilton</th>\n",
              "      <td>194874.0</td>\n",
              "      <td>38333.333333</td>\n",
              "      <td>1.666667</td>\n",
              "    </tr>\n",
              "    <tr>\n",
              "      <th>John Smith</th>\n",
              "      <td>576220.0</td>\n",
              "      <td>20000.000000</td>\n",
              "      <td>1.500000</td>\n",
              "    </tr>\n",
              "    <tr>\n",
              "      <th rowspan=\"2\" valign=\"top\">Fred Anderson</th>\n",
              "      <th>Cedric Moss</th>\n",
              "      <td>196016.5</td>\n",
              "      <td>27500.000000</td>\n",
              "      <td>1.250000</td>\n",
              "    </tr>\n",
              "    <tr>\n",
              "      <th>Wendy Yule</th>\n",
              "      <td>614061.5</td>\n",
              "      <td>44250.000000</td>\n",
              "      <td>3.000000</td>\n",
              "    </tr>\n",
              "  </tbody>\n",
              "</table>\n",
              "</div>"
            ],
            "text/plain": [
              "                              Account         Price  Quantity\n",
              "Manager       Rep                                            \n",
              "Debra Henley  Craig Booker   720237.0  20000.000000  1.250000\n",
              "              Daniel Hilton  194874.0  38333.333333  1.666667\n",
              "              John Smith     576220.0  20000.000000  1.500000\n",
              "Fred Anderson Cedric Moss    196016.5  27500.000000  1.250000\n",
              "              Wendy Yule     614061.5  44250.000000  3.000000"
            ]
          },
          "metadata": {
            "tags": []
          },
          "execution_count": 24
        }
      ]
    },
    {
      "cell_type": "code",
      "metadata": {
        "colab": {
          "base_uri": "https://localhost:8080/",
          "height": 234
        },
        "id": "0y0D-0sT7A77",
        "outputId": "99f4f1a2-9549-4ac9-cf4c-24a8ff84696a"
      },
      "source": [
        "pd.pivot_table(df,index=[\"Manager\",\"Rep\"],values=[\"Price\"])"
      ],
      "execution_count": 25,
      "outputs": [
        {
          "output_type": "execute_result",
          "data": {
            "text/html": [
              "<div>\n",
              "<style scoped>\n",
              "    .dataframe tbody tr th:only-of-type {\n",
              "        vertical-align: middle;\n",
              "    }\n",
              "\n",
              "    .dataframe tbody tr th {\n",
              "        vertical-align: top;\n",
              "    }\n",
              "\n",
              "    .dataframe thead th {\n",
              "        text-align: right;\n",
              "    }\n",
              "</style>\n",
              "<table border=\"1\" class=\"dataframe\">\n",
              "  <thead>\n",
              "    <tr style=\"text-align: right;\">\n",
              "      <th></th>\n",
              "      <th></th>\n",
              "      <th>Price</th>\n",
              "    </tr>\n",
              "    <tr>\n",
              "      <th>Manager</th>\n",
              "      <th>Rep</th>\n",
              "      <th></th>\n",
              "    </tr>\n",
              "  </thead>\n",
              "  <tbody>\n",
              "    <tr>\n",
              "      <th rowspan=\"3\" valign=\"top\">Debra Henley</th>\n",
              "      <th>Craig Booker</th>\n",
              "      <td>20000.000000</td>\n",
              "    </tr>\n",
              "    <tr>\n",
              "      <th>Daniel Hilton</th>\n",
              "      <td>38333.333333</td>\n",
              "    </tr>\n",
              "    <tr>\n",
              "      <th>John Smith</th>\n",
              "      <td>20000.000000</td>\n",
              "    </tr>\n",
              "    <tr>\n",
              "      <th rowspan=\"2\" valign=\"top\">Fred Anderson</th>\n",
              "      <th>Cedric Moss</th>\n",
              "      <td>27500.000000</td>\n",
              "    </tr>\n",
              "    <tr>\n",
              "      <th>Wendy Yule</th>\n",
              "      <td>44250.000000</td>\n",
              "    </tr>\n",
              "  </tbody>\n",
              "</table>\n",
              "</div>"
            ],
            "text/plain": [
              "                                    Price\n",
              "Manager       Rep                        \n",
              "Debra Henley  Craig Booker   20000.000000\n",
              "              Daniel Hilton  38333.333333\n",
              "              John Smith     20000.000000\n",
              "Fred Anderson Cedric Moss    27500.000000\n",
              "              Wendy Yule     44250.000000"
            ]
          },
          "metadata": {
            "tags": []
          },
          "execution_count": 25
        }
      ]
    },
    {
      "cell_type": "code",
      "metadata": {
        "colab": {
          "base_uri": "https://localhost:8080/",
          "height": 234
        },
        "id": "EqCwWxCD7FPh",
        "outputId": "4b7fcc24-82a2-483a-de12-dabdff020dbe"
      },
      "source": [
        "pd.pivot_table(df,index=[\"Manager\",\"Rep\"],values=[\"Price\"],aggfunc=np.sum)"
      ],
      "execution_count": 27,
      "outputs": [
        {
          "output_type": "execute_result",
          "data": {
            "text/html": [
              "<div>\n",
              "<style scoped>\n",
              "    .dataframe tbody tr th:only-of-type {\n",
              "        vertical-align: middle;\n",
              "    }\n",
              "\n",
              "    .dataframe tbody tr th {\n",
              "        vertical-align: top;\n",
              "    }\n",
              "\n",
              "    .dataframe thead th {\n",
              "        text-align: right;\n",
              "    }\n",
              "</style>\n",
              "<table border=\"1\" class=\"dataframe\">\n",
              "  <thead>\n",
              "    <tr style=\"text-align: right;\">\n",
              "      <th></th>\n",
              "      <th></th>\n",
              "      <th>Price</th>\n",
              "    </tr>\n",
              "    <tr>\n",
              "      <th>Manager</th>\n",
              "      <th>Rep</th>\n",
              "      <th></th>\n",
              "    </tr>\n",
              "  </thead>\n",
              "  <tbody>\n",
              "    <tr>\n",
              "      <th rowspan=\"3\" valign=\"top\">Debra Henley</th>\n",
              "      <th>Craig Booker</th>\n",
              "      <td>80000</td>\n",
              "    </tr>\n",
              "    <tr>\n",
              "      <th>Daniel Hilton</th>\n",
              "      <td>115000</td>\n",
              "    </tr>\n",
              "    <tr>\n",
              "      <th>John Smith</th>\n",
              "      <td>40000</td>\n",
              "    </tr>\n",
              "    <tr>\n",
              "      <th rowspan=\"2\" valign=\"top\">Fred Anderson</th>\n",
              "      <th>Cedric Moss</th>\n",
              "      <td>110000</td>\n",
              "    </tr>\n",
              "    <tr>\n",
              "      <th>Wendy Yule</th>\n",
              "      <td>177000</td>\n",
              "    </tr>\n",
              "  </tbody>\n",
              "</table>\n",
              "</div>"
            ],
            "text/plain": [
              "                              Price\n",
              "Manager       Rep                  \n",
              "Debra Henley  Craig Booker    80000\n",
              "              Daniel Hilton  115000\n",
              "              John Smith      40000\n",
              "Fred Anderson Cedric Moss    110000\n",
              "              Wendy Yule     177000"
            ]
          },
          "metadata": {
            "tags": []
          },
          "execution_count": 27
        }
      ]
    },
    {
      "cell_type": "code",
      "metadata": {
        "colab": {
          "base_uri": "https://localhost:8080/",
          "height": 265
        },
        "id": "q8KToMbI8FUW",
        "outputId": "8aa2fca6-2488-4beb-d08c-7f91877de85a"
      },
      "source": [
        "pd.pivot_table(df,index=[\"Manager\",\"Rep\"],values=[\"Price\"],aggfunc=[np.mean,len])"
      ],
      "execution_count": 28,
      "outputs": [
        {
          "output_type": "execute_result",
          "data": {
            "text/html": [
              "<div>\n",
              "<style scoped>\n",
              "    .dataframe tbody tr th:only-of-type {\n",
              "        vertical-align: middle;\n",
              "    }\n",
              "\n",
              "    .dataframe tbody tr th {\n",
              "        vertical-align: top;\n",
              "    }\n",
              "\n",
              "    .dataframe thead tr th {\n",
              "        text-align: left;\n",
              "    }\n",
              "\n",
              "    .dataframe thead tr:last-of-type th {\n",
              "        text-align: right;\n",
              "    }\n",
              "</style>\n",
              "<table border=\"1\" class=\"dataframe\">\n",
              "  <thead>\n",
              "    <tr>\n",
              "      <th></th>\n",
              "      <th></th>\n",
              "      <th>mean</th>\n",
              "      <th>len</th>\n",
              "    </tr>\n",
              "    <tr>\n",
              "      <th></th>\n",
              "      <th></th>\n",
              "      <th>Price</th>\n",
              "      <th>Price</th>\n",
              "    </tr>\n",
              "    <tr>\n",
              "      <th>Manager</th>\n",
              "      <th>Rep</th>\n",
              "      <th></th>\n",
              "      <th></th>\n",
              "    </tr>\n",
              "  </thead>\n",
              "  <tbody>\n",
              "    <tr>\n",
              "      <th rowspan=\"3\" valign=\"top\">Debra Henley</th>\n",
              "      <th>Craig Booker</th>\n",
              "      <td>20000.000000</td>\n",
              "      <td>4</td>\n",
              "    </tr>\n",
              "    <tr>\n",
              "      <th>Daniel Hilton</th>\n",
              "      <td>38333.333333</td>\n",
              "      <td>3</td>\n",
              "    </tr>\n",
              "    <tr>\n",
              "      <th>John Smith</th>\n",
              "      <td>20000.000000</td>\n",
              "      <td>2</td>\n",
              "    </tr>\n",
              "    <tr>\n",
              "      <th rowspan=\"2\" valign=\"top\">Fred Anderson</th>\n",
              "      <th>Cedric Moss</th>\n",
              "      <td>27500.000000</td>\n",
              "      <td>4</td>\n",
              "    </tr>\n",
              "    <tr>\n",
              "      <th>Wendy Yule</th>\n",
              "      <td>44250.000000</td>\n",
              "      <td>4</td>\n",
              "    </tr>\n",
              "  </tbody>\n",
              "</table>\n",
              "</div>"
            ],
            "text/plain": [
              "                                     mean   len\n",
              "                                    Price Price\n",
              "Manager       Rep                              \n",
              "Debra Henley  Craig Booker   20000.000000     4\n",
              "              Daniel Hilton  38333.333333     3\n",
              "              John Smith     20000.000000     2\n",
              "Fred Anderson Cedric Moss    27500.000000     4\n",
              "              Wendy Yule     44250.000000     4"
            ]
          },
          "metadata": {
            "tags": []
          },
          "execution_count": 28
        }
      ]
    },
    {
      "cell_type": "code",
      "metadata": {
        "colab": {
          "base_uri": "https://localhost:8080/",
          "height": 295
        },
        "id": "PN8iRP_v8llK",
        "outputId": "dff5d275-4fb0-4435-ef6c-532eeebcc3aa"
      },
      "source": [
        "pd.pivot_table(df,index=[\"Manager\",\"Rep\"],values=[\"Price\"],\n",
        "               columns=[\"Product\"],aggfunc=[np.sum])"
      ],
      "execution_count": 29,
      "outputs": [
        {
          "output_type": "execute_result",
          "data": {
            "text/html": [
              "<div>\n",
              "<style scoped>\n",
              "    .dataframe tbody tr th:only-of-type {\n",
              "        vertical-align: middle;\n",
              "    }\n",
              "\n",
              "    .dataframe tbody tr th {\n",
              "        vertical-align: top;\n",
              "    }\n",
              "\n",
              "    .dataframe thead tr th {\n",
              "        text-align: left;\n",
              "    }\n",
              "\n",
              "    .dataframe thead tr:last-of-type th {\n",
              "        text-align: right;\n",
              "    }\n",
              "</style>\n",
              "<table border=\"1\" class=\"dataframe\">\n",
              "  <thead>\n",
              "    <tr>\n",
              "      <th></th>\n",
              "      <th></th>\n",
              "      <th colspan=\"4\" halign=\"left\">sum</th>\n",
              "    </tr>\n",
              "    <tr>\n",
              "      <th></th>\n",
              "      <th></th>\n",
              "      <th colspan=\"4\" halign=\"left\">Price</th>\n",
              "    </tr>\n",
              "    <tr>\n",
              "      <th></th>\n",
              "      <th>Product</th>\n",
              "      <th>CPU</th>\n",
              "      <th>Maintenance</th>\n",
              "      <th>Monitor</th>\n",
              "      <th>Software</th>\n",
              "    </tr>\n",
              "    <tr>\n",
              "      <th>Manager</th>\n",
              "      <th>Rep</th>\n",
              "      <th></th>\n",
              "      <th></th>\n",
              "      <th></th>\n",
              "      <th></th>\n",
              "    </tr>\n",
              "  </thead>\n",
              "  <tbody>\n",
              "    <tr>\n",
              "      <th rowspan=\"3\" valign=\"top\">Debra Henley</th>\n",
              "      <th>Craig Booker</th>\n",
              "      <td>65000.0</td>\n",
              "      <td>5000.0</td>\n",
              "      <td>NaN</td>\n",
              "      <td>10000.0</td>\n",
              "    </tr>\n",
              "    <tr>\n",
              "      <th>Daniel Hilton</th>\n",
              "      <td>105000.0</td>\n",
              "      <td>NaN</td>\n",
              "      <td>NaN</td>\n",
              "      <td>10000.0</td>\n",
              "    </tr>\n",
              "    <tr>\n",
              "      <th>John Smith</th>\n",
              "      <td>35000.0</td>\n",
              "      <td>5000.0</td>\n",
              "      <td>NaN</td>\n",
              "      <td>NaN</td>\n",
              "    </tr>\n",
              "    <tr>\n",
              "      <th rowspan=\"2\" valign=\"top\">Fred Anderson</th>\n",
              "      <th>Cedric Moss</th>\n",
              "      <td>95000.0</td>\n",
              "      <td>5000.0</td>\n",
              "      <td>NaN</td>\n",
              "      <td>10000.0</td>\n",
              "    </tr>\n",
              "    <tr>\n",
              "      <th>Wendy Yule</th>\n",
              "      <td>165000.0</td>\n",
              "      <td>7000.0</td>\n",
              "      <td>5000.0</td>\n",
              "      <td>NaN</td>\n",
              "    </tr>\n",
              "  </tbody>\n",
              "</table>\n",
              "</div>"
            ],
            "text/plain": [
              "                                  sum                             \n",
              "                                Price                             \n",
              "Product                           CPU Maintenance Monitor Software\n",
              "Manager       Rep                                                 \n",
              "Debra Henley  Craig Booker    65000.0      5000.0     NaN  10000.0\n",
              "              Daniel Hilton  105000.0         NaN     NaN  10000.0\n",
              "              John Smith      35000.0      5000.0     NaN      NaN\n",
              "Fred Anderson Cedric Moss     95000.0      5000.0     NaN  10000.0\n",
              "              Wendy Yule     165000.0      7000.0  5000.0      NaN"
            ]
          },
          "metadata": {
            "tags": []
          },
          "execution_count": 29
        }
      ]
    }
  ]
}