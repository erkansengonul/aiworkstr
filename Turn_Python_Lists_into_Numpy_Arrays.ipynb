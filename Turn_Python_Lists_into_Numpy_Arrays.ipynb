{
  "nbformat": 4,
  "nbformat_minor": 0,
  "metadata": {
    "colab": {
      "name": "Turn Python Lists into Numpy Arrays.ipynb",
      "provenance": [],
      "collapsed_sections": [],
      "authorship_tag": "ABX9TyPF4JcyRZWDraQtM2HsQ+BY",
      "include_colab_link": true
    },
    "kernelspec": {
      "name": "python3",
      "display_name": "Python 3"
    },
    "language_info": {
      "name": "python"
    }
  },
  "cells": [
    {
      "cell_type": "markdown",
      "metadata": {
        "id": "view-in-github",
        "colab_type": "text"
      },
      "source": [
        "<a href=\"https://colab.research.google.com/github/erkansengonul/aiworkstr/blob/main/Turn_Python_Lists_into_Numpy_Arrays.ipynb\" target=\"_parent\"><img src=\"https://colab.research.google.com/assets/colab-badge.svg\" alt=\"Open In Colab\"/></a>"
      ]
    },
    {
      "cell_type": "markdown",
      "metadata": {
        "id": "QXMSnv0ypib2"
      },
      "source": [
        "**How to Turn Python Lists into Numpy Arrays**\n"
      ]
    },
    {
      "cell_type": "markdown",
      "metadata": {
        "id": "wLxjW364sQz9"
      },
      "source": [
        "Importing the numpy module"
      ]
    },
    {
      "cell_type": "code",
      "metadata": {
        "id": "AHi-DW_ho8s2"
      },
      "source": [
        "import numpy as np"
      ],
      "execution_count": 1,
      "outputs": []
    },
    {
      "cell_type": "markdown",
      "metadata": {
        "id": "6zJA74tTvnr8"
      },
      "source": [
        "**Python List**"
      ]
    },
    {
      "cell_type": "code",
      "metadata": {
        "colab": {
          "base_uri": "https://localhost:8080/"
        },
        "id": "HERRuXeeqVVT",
        "outputId": "d148f4fb-9c43-416a-cb1a-b4adbc1bd248"
      },
      "source": [
        "w1, w2, w3 = 0.3, 0.2, 0.5\n",
        "weights = [w1, w2, w3]\n",
        "type(weights)"
      ],
      "execution_count": 2,
      "outputs": [
        {
          "output_type": "execute_result",
          "data": {
            "text/plain": [
              "list"
            ]
          },
          "metadata": {
            "tags": []
          },
          "execution_count": 2
        }
      ]
    },
    {
      "cell_type": "markdown",
      "metadata": {
        "id": "oOgCmYnQvt2V"
      },
      "source": [
        "**Numpy Array**"
      ]
    },
    {
      "cell_type": "code",
      "metadata": {
        "colab": {
          "base_uri": "https://localhost:8080/"
        },
        "id": "ZIx_Lv0NqEe5",
        "outputId": "a22b9f69-e980-47d2-b3ff-b8f2d4fc862b"
      },
      "source": [
        "weights = np.array([w1, w2, w3])\n",
        "type(weights)"
      ],
      "execution_count": 3,
      "outputs": [
        {
          "output_type": "execute_result",
          "data": {
            "text/plain": [
              "numpy.ndarray"
            ]
          },
          "metadata": {
            "tags": []
          },
          "execution_count": 3
        }
      ]
    },
    {
      "cell_type": "markdown",
      "metadata": {
        "id": "MMJdAq1gwKy9"
      },
      "source": [
        "**Python List**"
      ]
    },
    {
      "cell_type": "code",
      "metadata": {
        "colab": {
          "base_uri": "https://localhost:8080/"
        },
        "id": "IhgwzqhJqdUR",
        "outputId": "0d0af0a6-8798-411f-89e5-e418ea601e1e"
      },
      "source": [
        "line = [73, 67, 43]\n",
        "type(line)"
      ],
      "execution_count": 4,
      "outputs": [
        {
          "output_type": "execute_result",
          "data": {
            "text/plain": [
              "list"
            ]
          },
          "metadata": {
            "tags": []
          },
          "execution_count": 4
        }
      ]
    },
    {
      "cell_type": "markdown",
      "metadata": {
        "id": "3Vx6NuddwN7A"
      },
      "source": [
        "**Numpy Array**"
      ]
    },
    {
      "cell_type": "code",
      "metadata": {
        "colab": {
          "base_uri": "https://localhost:8080/"
        },
        "id": "ww4b-n8uwQht",
        "outputId": "8c3a7dc2-2bab-45cf-980b-9da3e8eec45b"
      },
      "source": [
        "line = np.array([73, 67, 43])\n",
        "type(line)"
      ],
      "execution_count": 5,
      "outputs": [
        {
          "output_type": "execute_result",
          "data": {
            "text/plain": [
              "numpy.ndarray"
            ]
          },
          "metadata": {
            "tags": []
          },
          "execution_count": 5
        }
      ]
    }
  ]
}