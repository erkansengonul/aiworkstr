{
  "nbformat": 4,
  "nbformat_minor": 0,
  "metadata": {
    "colab": {
      "name": "Turn Python Lists into Numpy Arrays.ipynb",
      "provenance": [],
      "collapsed_sections": [],
      "authorship_tag": "ABX9TyN7l4X/Dubydv+gvpr3pGCh",
      "include_colab_link": true
    },
    "kernelspec": {
      "name": "python3",
      "display_name": "Python 3"
    },
    "language_info": {
      "name": "python"
    }
  },
  "cells": [
    {
      "cell_type": "markdown",
      "metadata": {
        "id": "view-in-github",
        "colab_type": "text"
      },
      "source": [
        "<a href=\"https://colab.research.google.com/github/erkansengonul/aiworkstr/blob/main/Turn_Python_Lists_into_Numpy_Arrays.ipynb\" target=\"_parent\"><img src=\"https://colab.research.google.com/assets/colab-badge.svg\" alt=\"Open In Colab\"/></a>"
      ]
    },
    {
      "cell_type": "markdown",
      "metadata": {
        "id": "QXMSnv0ypib2"
      },
      "source": [
        "How to Turn Python Lists into Numpy Arrays\n"
      ]
    },
    {
      "cell_type": "code",
      "metadata": {
        "id": "HERRuXeeqVVT"
      },
      "source": [
        "w1, w2, w3 = 0.3, 0.2, 0.5"
      ],
      "execution_count": 34,
      "outputs": []
    },
    {
      "cell_type": "code",
      "metadata": {
        "id": "ddNQeQWnqgAV"
      },
      "source": [
        "weights = [w1, w2, w3]"
      ],
      "execution_count": 35,
      "outputs": []
    },
    {
      "cell_type": "code",
      "metadata": {
        "colab": {
          "base_uri": "https://localhost:8080/"
        },
        "id": "KNb8MMznrGJ5",
        "outputId": "00710af0-ed5b-442a-eb55-9c6b776f99b1"
      },
      "source": [
        "type(weights)"
      ],
      "execution_count": 36,
      "outputs": [
        {
          "output_type": "execute_result",
          "data": {
            "text/plain": [
              "list"
            ]
          },
          "metadata": {
            "tags": []
          },
          "execution_count": 36
        }
      ]
    },
    {
      "cell_type": "code",
      "metadata": {
        "id": "IhgwzqhJqdUR"
      },
      "source": [
        "kanto = [73, 67, 43]"
      ],
      "execution_count": 37,
      "outputs": []
    },
    {
      "cell_type": "code",
      "metadata": {
        "colab": {
          "base_uri": "https://localhost:8080/"
        },
        "id": "ESLCNdEJrQeh",
        "outputId": "8cc91683-28ab-4c63-b817-ba6a2106826c"
      },
      "source": [
        "type(kanto)"
      ],
      "execution_count": 38,
      "outputs": [
        {
          "output_type": "execute_result",
          "data": {
            "text/plain": [
              "list"
            ]
          },
          "metadata": {
            "tags": []
          },
          "execution_count": 38
        }
      ]
    },
    {
      "cell_type": "markdown",
      "metadata": {
        "id": "wLxjW364sQz9"
      },
      "source": [
        "Importing the numpy module"
      ]
    },
    {
      "cell_type": "code",
      "metadata": {
        "id": "AHi-DW_ho8s2"
      },
      "source": [
        "import numpy as np"
      ],
      "execution_count": 39,
      "outputs": []
    },
    {
      "cell_type": "markdown",
      "metadata": {
        "id": "tvrOvuJDsH69"
      },
      "source": [
        "We can now use the np.array function to create Numpy arrays."
      ]
    },
    {
      "cell_type": "code",
      "metadata": {
        "colab": {
          "base_uri": "https://localhost:8080/"
        },
        "id": "OGESCZ8zp_cV",
        "outputId": "c189a877-437b-4393-9794-3a0ffc6fff38"
      },
      "source": [
        "kanto = np.array([73, 67, 43])\n",
        "kanto"
      ],
      "execution_count": 40,
      "outputs": [
        {
          "output_type": "execute_result",
          "data": {
            "text/plain": [
              "array([73, 67, 43])"
            ]
          },
          "metadata": {
            "tags": []
          },
          "execution_count": 40
        }
      ]
    },
    {
      "cell_type": "markdown",
      "metadata": {
        "id": "wKcc67Zdr6GM"
      },
      "source": [
        "Numpy arrays have the type ndarray."
      ]
    },
    {
      "cell_type": "code",
      "metadata": {
        "colab": {
          "base_uri": "https://localhost:8080/"
        },
        "id": "NXSbOXvfrhHt",
        "outputId": "be9c9383-2b17-46f2-ac69-e50f657df3a0"
      },
      "source": [
        "type(kanto)"
      ],
      "execution_count": 41,
      "outputs": [
        {
          "output_type": "execute_result",
          "data": {
            "text/plain": [
              "numpy.ndarray"
            ]
          },
          "metadata": {
            "tags": []
          },
          "execution_count": 41
        }
      ]
    },
    {
      "cell_type": "code",
      "metadata": {
        "colab": {
          "base_uri": "https://localhost:8080/"
        },
        "id": "ZIx_Lv0NqEe5",
        "outputId": "d3a4522e-34bc-4cb8-fc2c-2df3a906ce82"
      },
      "source": [
        "weights = np.array([w1, w2, w3])\n",
        "weights"
      ],
      "execution_count": 42,
      "outputs": [
        {
          "output_type": "execute_result",
          "data": {
            "text/plain": [
              "array([0.3, 0.2, 0.5])"
            ]
          },
          "metadata": {
            "tags": []
          },
          "execution_count": 42
        }
      ]
    },
    {
      "cell_type": "code",
      "metadata": {
        "colab": {
          "base_uri": "https://localhost:8080/"
        },
        "id": "cVSeA3Ysrpgb",
        "outputId": "1f8b95b7-1a4f-4943-c5ce-64a69016c8f2"
      },
      "source": [
        "type(weights)"
      ],
      "execution_count": 43,
      "outputs": [
        {
          "output_type": "execute_result",
          "data": {
            "text/plain": [
              "numpy.ndarray"
            ]
          },
          "metadata": {
            "tags": []
          },
          "execution_count": 43
        }
      ]
    }
  ]
}